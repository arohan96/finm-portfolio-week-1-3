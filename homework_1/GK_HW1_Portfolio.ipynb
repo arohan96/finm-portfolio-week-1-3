{
 "cells": [
  {
   "metadata": {},
   "cell_type": "markdown",
   "source": [
    "## 1. Summary Statistics\n",
    "* Calculate and display the mean and volatility of each asset’s excess return. (Recall we use volatility to refer to standard deviation.)\n",
    "* Which assets have the best and worst Sharpe ratios? Recall that the Sharpe Ratio is simply the ratio of the mean-to-volatility of excess returns:\n",
    "$$\\text{sharpe ratio of investment }i = \\frac{\\mux_i}{\\sigma_i}$$"
   ],
   "id": "1fb5f2021a0161f9"
  },
  {
   "metadata": {
    "ExecuteTime": {
     "end_time": "2024-10-06T23:33:26.425587Z",
     "start_time": "2024-10-06T23:33:26.421992Z"
    }
   },
   "cell_type": "code",
   "source": [
    "import pandas as pd\n",
    "import numpy as np\n",
    "import math\n",
    "import seaborn as sns\n",
    "import matplotlib.pyplot as plt"
   ],
   "id": "8cb87baba2cda2a",
   "outputs": [],
   "execution_count": 170
  },
  {
   "metadata": {
    "ExecuteTime": {
     "end_time": "2024-10-06T23:33:26.937188Z",
     "start_time": "2024-10-06T23:33:26.898621Z"
    }
   },
   "cell_type": "code",
   "source": [
    "import pandas as pd\n",
    "INFILE = \"C:/Users/Gurjivan/DataspellProjects/finm-portfolio-2024/data/multi_asset_etf_data.xlsx\"\n",
    "\n",
    "excess_returns=pd.read_excel(INFILE,sheet_name='excess returns').set_index('Date')\n",
    "excess_returns.head()\n"
   ],
   "id": "a6fabdffe1c07976",
   "outputs": [
    {
     "data": {
      "text/plain": [
       "                 BWX       DBC       EEM       EFA       HYG       IEF  \\\n",
       "Date                                                                     \n",
       "2011-02-28  0.006527  0.041620 -0.000527  0.035408  0.014264 -0.002174   \n",
       "2011-03-31  0.008255  0.026409  0.062723 -0.024055  0.000251 -0.001719   \n",
       "2011-04-30  0.048261  0.045015  0.026783  0.055715  0.015432  0.017868   \n",
       "2011-05-31 -0.013447 -0.051625 -0.029301 -0.021962  0.001432  0.025156   \n",
       "2011-06-30 -0.000270 -0.042817 -0.009528 -0.012280 -0.005878 -0.005217   \n",
       "\n",
       "                 IYR       PSP       QAI       SPY       TIP  \n",
       "Date                                                          \n",
       "2011-02-28  0.045113  0.040056  0.002493  0.034647  0.007118  \n",
       "2011-03-31 -0.011107  0.016495  0.005348 -0.000052  0.011730  \n",
       "2011-04-30  0.046089  0.058127  0.018490  0.028418  0.023236  \n",
       "2011-05-31  0.010233 -0.041465  0.000099 -0.011115  0.002758  \n",
       "2011-06-30 -0.031233 -0.042754 -0.010948 -0.017042  0.007377  "
      ],
      "text/html": [
       "<div>\n",
       "<style scoped>\n",
       "    .dataframe tbody tr th:only-of-type {\n",
       "        vertical-align: middle;\n",
       "    }\n",
       "\n",
       "    .dataframe tbody tr th {\n",
       "        vertical-align: top;\n",
       "    }\n",
       "\n",
       "    .dataframe thead th {\n",
       "        text-align: right;\n",
       "    }\n",
       "</style>\n",
       "<table border=\"1\" class=\"dataframe\">\n",
       "  <thead>\n",
       "    <tr style=\"text-align: right;\">\n",
       "      <th></th>\n",
       "      <th>BWX</th>\n",
       "      <th>DBC</th>\n",
       "      <th>EEM</th>\n",
       "      <th>EFA</th>\n",
       "      <th>HYG</th>\n",
       "      <th>IEF</th>\n",
       "      <th>IYR</th>\n",
       "      <th>PSP</th>\n",
       "      <th>QAI</th>\n",
       "      <th>SPY</th>\n",
       "      <th>TIP</th>\n",
       "    </tr>\n",
       "    <tr>\n",
       "      <th>Date</th>\n",
       "      <th></th>\n",
       "      <th></th>\n",
       "      <th></th>\n",
       "      <th></th>\n",
       "      <th></th>\n",
       "      <th></th>\n",
       "      <th></th>\n",
       "      <th></th>\n",
       "      <th></th>\n",
       "      <th></th>\n",
       "      <th></th>\n",
       "    </tr>\n",
       "  </thead>\n",
       "  <tbody>\n",
       "    <tr>\n",
       "      <th>2011-02-28</th>\n",
       "      <td>0.006527</td>\n",
       "      <td>0.041620</td>\n",
       "      <td>-0.000527</td>\n",
       "      <td>0.035408</td>\n",
       "      <td>0.014264</td>\n",
       "      <td>-0.002174</td>\n",
       "      <td>0.045113</td>\n",
       "      <td>0.040056</td>\n",
       "      <td>0.002493</td>\n",
       "      <td>0.034647</td>\n",
       "      <td>0.007118</td>\n",
       "    </tr>\n",
       "    <tr>\n",
       "      <th>2011-03-31</th>\n",
       "      <td>0.008255</td>\n",
       "      <td>0.026409</td>\n",
       "      <td>0.062723</td>\n",
       "      <td>-0.024055</td>\n",
       "      <td>0.000251</td>\n",
       "      <td>-0.001719</td>\n",
       "      <td>-0.011107</td>\n",
       "      <td>0.016495</td>\n",
       "      <td>0.005348</td>\n",
       "      <td>-0.000052</td>\n",
       "      <td>0.011730</td>\n",
       "    </tr>\n",
       "    <tr>\n",
       "      <th>2011-04-30</th>\n",
       "      <td>0.048261</td>\n",
       "      <td>0.045015</td>\n",
       "      <td>0.026783</td>\n",
       "      <td>0.055715</td>\n",
       "      <td>0.015432</td>\n",
       "      <td>0.017868</td>\n",
       "      <td>0.046089</td>\n",
       "      <td>0.058127</td>\n",
       "      <td>0.018490</td>\n",
       "      <td>0.028418</td>\n",
       "      <td>0.023236</td>\n",
       "    </tr>\n",
       "    <tr>\n",
       "      <th>2011-05-31</th>\n",
       "      <td>-0.013447</td>\n",
       "      <td>-0.051625</td>\n",
       "      <td>-0.029301</td>\n",
       "      <td>-0.021962</td>\n",
       "      <td>0.001432</td>\n",
       "      <td>0.025156</td>\n",
       "      <td>0.010233</td>\n",
       "      <td>-0.041465</td>\n",
       "      <td>0.000099</td>\n",
       "      <td>-0.011115</td>\n",
       "      <td>0.002758</td>\n",
       "    </tr>\n",
       "    <tr>\n",
       "      <th>2011-06-30</th>\n",
       "      <td>-0.000270</td>\n",
       "      <td>-0.042817</td>\n",
       "      <td>-0.009528</td>\n",
       "      <td>-0.012280</td>\n",
       "      <td>-0.005878</td>\n",
       "      <td>-0.005217</td>\n",
       "      <td>-0.031233</td>\n",
       "      <td>-0.042754</td>\n",
       "      <td>-0.010948</td>\n",
       "      <td>-0.017042</td>\n",
       "      <td>0.007377</td>\n",
       "    </tr>\n",
       "  </tbody>\n",
       "</table>\n",
       "</div>"
      ]
     },
     "execution_count": 171,
     "metadata": {},
     "output_type": "execute_result"
    }
   ],
   "execution_count": 171
  },
  {
   "metadata": {
    "ExecuteTime": {
     "end_time": "2024-10-06T23:33:27.665358Z",
     "start_time": "2024-10-06T23:33:27.659577Z"
    }
   },
   "cell_type": "code",
   "source": [
    "excess_return_mean=excess_returns.mean()*12\n",
    "excess_return_mean.name=\"Mean\"\n",
    "excess_return_volatility=excess_returns.std()*math.sqrt(12)\n",
    "excess_return_volatility.name=(\"Volatility\")\n",
    "\n",
    "Summary_statistics=pd.merge(excess_return_mean,excess_return_volatility,left_index=True,right_index=True)\n",
    "Summary_statistics=pd.DataFrame(Summary_statistics)\n",
    "\n",
    "Summary_statistics['Sharpe']=(Summary_statistics['Mean']/Summary_statistics['Volatility'])*math.sqrt(12)"
   ],
   "id": "e9d48700be8e927",
   "outputs": [],
   "execution_count": 172
  },
  {
   "metadata": {
    "ExecuteTime": {
     "end_time": "2024-10-06T23:33:28.431345Z",
     "start_time": "2024-10-06T23:33:28.427230Z"
    }
   },
   "cell_type": "code",
   "source": "print(Summary_statistics)",
   "id": "f9bdf4a21cc835bf",
   "outputs": [
    {
     "name": "stdout",
     "output_type": "stream",
     "text": [
      "         Mean  Volatility    Sharpe\n",
      "BWX -0.011888    0.081671 -0.504246\n",
      "DBC -0.009086    0.168455 -0.186836\n",
      "EEM  0.026960    0.179940  0.519023\n",
      "EFA  0.055037    0.152203  1.252636\n",
      "HYG  0.037356    0.077289  1.674320\n",
      "IEF  0.013939    0.063197  0.764046\n",
      "IYR  0.077912    0.169585  1.591499\n",
      "PSP  0.092851    0.215238  1.494366\n",
      "QAI  0.014959    0.049007  1.057387\n",
      "SPY  0.126983    0.143066  3.074660\n",
      "TIP  0.016844    0.051258  1.138368\n"
     ]
    }
   ],
   "execution_count": 173
  },
  {
   "metadata": {
    "ExecuteTime": {
     "end_time": "2024-10-06T23:33:29.203327Z",
     "start_time": "2024-10-06T23:33:29.199668Z"
    }
   },
   "cell_type": "code",
   "source": [
    "print(f\"The Best Sharpe Ratio is\",Summary_statistics['Sharpe'].idxmax(),Summary_statistics['Sharpe'].max() )\n",
    "print(f\"The Worst Sharpe Ratio is\", Summary_statistics['Sharpe'].idxmin(),Summary_statistics['Sharpe'].min() )"
   ],
   "id": "922d0cb3beaef",
   "outputs": [
    {
     "name": "stdout",
     "output_type": "stream",
     "text": [
      "The Best Sharpe Ratio is SPY 3.0746604504049335\n",
      "The Worst Sharpe Ratio is BWX -0.5042457533339207\n"
     ]
    }
   ],
   "execution_count": 174
  },
  {
   "metadata": {},
   "cell_type": "markdown",
   "source": [
    "## 2. Descriptive Analysis\n",
    "* Calculate the correlation matrix of the returns. Which pair has the highest correlation? And the lowest?\n",
    "* How well have TIPS done in our sample? Have they outperformed domestic bonds? Foreign bonds?"
   ],
   "id": "4030a9d1172925ac"
  },
  {
   "metadata": {
    "ExecuteTime": {
     "end_time": "2024-10-06T23:33:30.624898Z",
     "start_time": "2024-10-06T23:33:30.346144Z"
    }
   },
   "cell_type": "code",
   "source": [
    "corr_matrix = excess_returns.corr()\n",
    "print(corr_matrix)\n",
    "\n",
    "sns.heatmap(corr_matrix,annot=True)\n",
    "plt.title(\"Correlation Matrix\")\n",
    "plt.show()"
   ],
   "id": "37dfc8fd25a42537",
   "outputs": [
    {
     "name": "stdout",
     "output_type": "stream",
     "text": [
      "          BWX       DBC       EEM       EFA       HYG       IEF       IYR  \\\n",
      "BWX  1.000000  0.233222  0.638705  0.600620  0.620946  0.568903  0.562599   \n",
      "DBC  0.233222  1.000000  0.516908  0.521447  0.471924 -0.300523  0.290040   \n",
      "EEM  0.638705  0.516908  1.000000  0.820770  0.694174  0.020477  0.589003   \n",
      "EFA  0.600620  0.521447  0.820770  1.000000  0.790742  0.018537  0.705926   \n",
      "HYG  0.620946  0.471924  0.694174  0.790742  1.000000  0.180087  0.739567   \n",
      "IEF  0.568903 -0.300523  0.020477  0.018537  0.180087  1.000000  0.297047   \n",
      "IYR  0.562599  0.290040  0.589003  0.705926  0.739567  0.297047  1.000000   \n",
      "PSP  0.552010  0.467111  0.761796  0.910596  0.814182  0.017486  0.753810   \n",
      "QAI  0.662425  0.494467  0.791130  0.863957  0.811161  0.176287  0.718397   \n",
      "SPY  0.466152  0.448389  0.699939  0.864822  0.794782 -0.005053  0.760646   \n",
      "TIP  0.680001  0.114379  0.379465  0.386677  0.541758  0.745025  0.590805   \n",
      "\n",
      "          PSP       QAI       SPY       TIP  \n",
      "BWX  0.552010  0.662425  0.466152  0.680001  \n",
      "DBC  0.467111  0.494467  0.448389  0.114379  \n",
      "EEM  0.761796  0.791130  0.699939  0.379465  \n",
      "EFA  0.910596  0.863957  0.864822  0.386677  \n",
      "HYG  0.814182  0.811161  0.794782  0.541758  \n",
      "IEF  0.017486  0.176287 -0.005053  0.745025  \n",
      "IYR  0.753810  0.718397  0.760646  0.590805  \n",
      "PSP  1.000000  0.870673  0.890719  0.415854  \n",
      "QAI  0.870673  1.000000  0.862479  0.527724  \n",
      "SPY  0.890719  0.862479  1.000000  0.393647  \n",
      "TIP  0.415854  0.527724  0.393647  1.000000  \n"
     ]
    },
    {
     "data": {
      "text/plain": [
       "<Figure size 640x480 with 2 Axes>"
      ],
      "image/png": "[encoded data removed]"
     },
     "metadata": {},
     "output_type": "display_data"
    }
   ],
   "execution_count": 175
  },
  {
   "metadata": {
    "ExecuteTime": {
     "end_time": "2024-10-06T23:33:30.898940Z",
     "start_time": "2024-10-06T23:33:30.891689Z"
    }
   },
   "cell_type": "code",
   "source": [
    "corr_unstacked=corr_matrix.unstack()\n",
    "corr_unstacked=corr_unstacked[corr_unstacked!=1]\n",
    "print(f\"The Max correlation Pair is \",corr_unstacked.idxmax(),corr_unstacked.max())\n",
    "print(f\"The Min correlation Pair is \",corr_unstacked.idxmin(),corr_unstacked.min())"
   ],
   "id": "6098ec1310fc1e63",
   "outputs": [
    {
     "name": "stdout",
     "output_type": "stream",
     "text": [
      "The Max correlation Pair is  ('EFA', 'PSP') 0.9105956995777845\n",
      "The Min correlation Pair is  ('DBC', 'IEF') -0.30052272295503085\n"
     ]
    }
   ],
   "execution_count": 176
  },
  {
   "metadata": {},
   "cell_type": "markdown",
   "source": "",
   "id": "12d2b3a380e86fe8"
  },
  {
   "metadata": {
    "ExecuteTime": {
     "end_time": "2024-10-06T23:33:32.029772Z",
     "start_time": "2024-10-06T23:33:32.026035Z"
    }
   },
   "cell_type": "code",
   "source": [
    "print(f\"TIPS's performance\",excess_return_mean['TIP'])\n",
    "print(f\"Foreign Bonds's performance\",excess_return_mean['BWX'])\n",
    "print(f\"Domestic Bonds's performance in medium term\",excess_return_mean['IEF'])\n",
    "print(\"TIPS Has outperformed both Foreign Bonds and Domestic Bonds\")"
   ],
   "id": "4919c737332067cb",
   "outputs": [
    {
     "name": "stdout",
     "output_type": "stream",
     "text": [
      "TIPS's performance 0.01684419863408347\n",
      "Foreign Bonds's performance -0.01188831285877206\n",
      "Domestic Bonds's performance in medium term 0.013938703453012364\n",
      "TIPS Has outperformed both Foreign Bonds and Domestic Bonds\n"
     ]
    }
   ],
   "execution_count": 177
  },
  {
   "metadata": {},
   "cell_type": "markdown",
   "source": [
    "## 3. The MV frontier.\n",
    "* Compute and display the weights of the tangency portfolios: $\\wtan$.\n",
    "* Does the ranking of weights align with the ranking of Sharpe ratios?\n",
    "* Compute the mean, volatility, and Sharpe ratio for the tangency portfolio corresponding to\n",
    "$\\wtan$."
   ],
   "id": "4db909c07e98b6a1"
  },
  {
   "metadata": {
    "ExecuteTime": {
     "end_time": "2024-10-06T23:33:33.258511Z",
     "start_time": "2024-10-06T23:33:33.254289Z"
    }
   },
   "cell_type": "code",
   "source": [
    "def tangency_portfolio_weights(excess_returns: pd.DataFrame):\n",
    "    \"\"\"\n",
    "    Calculate tangency portfolio weights from excess returns data.\n",
    "\n",
    "    Parameters:\n",
    "    excess_returns (pd.DataFrame): A DataFrame where rows are observations (e.g., time periods)\n",
    "                                   and columns are assets, containing the excess returns.\n",
    "\n",
    "    Returns:\n",
    "    pd.Series: Weights of the tangency portfolio.\n",
    "    \"\"\"\n",
    "    # Calculate mean and covariance of excess returns\n",
    "    mean_excess_returns = excess_returns.mean()\n",
    "    cov_matrix = excess_returns.cov()\n",
    "\n",
    "    # Calculate inverse of covariance matrix\n",
    "    inv_cov_matrix = np.linalg.inv(cov_matrix)\n",
    "\n",
    "    # Calculate tangency portfolio weights\n",
    "    weights = inv_cov_matrix @ mean_excess_returns\n",
    "    weights /= weights.sum()  # Normalize weights to sum to 1\n",
    "\n",
    "    return pd.Series(weights, index=excess_returns.columns)\n"
   ],
   "id": "e7f95205c57da905",
   "outputs": [],
   "execution_count": 178
  },
  {
   "metadata": {
    "ExecuteTime": {
     "end_time": "2024-10-06T23:33:34.008766Z",
     "start_time": "2024-10-06T23:33:34.004528Z"
    }
   },
   "cell_type": "code",
   "source": [
    "w_t_tangency = tangency_portfolio_weights(excess_returns)\n",
    "w_t_tangency=w_t_tangency.to_frame(w_t_tangency)\n",
    "w_t_tangency.columns.values[0] = 'Tangency Weights'"
   ],
   "id": "79416bb449e3d814",
   "outputs": [],
   "execution_count": 179
  },
  {
   "metadata": {
    "ExecuteTime": {
     "end_time": "2024-10-06T23:33:34.474361Z",
     "start_time": "2024-10-06T23:33:34.470940Z"
    }
   },
   "cell_type": "code",
   "source": "print(w_t_tangency)",
   "id": "f150bd9489c78f52",
   "outputs": [
    {
     "name": "stdout",
     "output_type": "stream",
     "text": [
      "     Tangency Weights\n",
      "BWX          2.730253\n",
      "DBC         -0.111241\n",
      "EEM         -0.615698\n",
      "EFA          0.530692\n",
      "HYG         -0.832578\n",
      "IEF         -4.682480\n",
      "IYR          0.877108\n",
      "PSP          0.277002\n",
      "QAI          7.220592\n",
      "SPY         -4.904086\n",
      "TIP          0.510436\n"
     ]
    }
   ],
   "execution_count": 180
  },
  {
   "metadata": {},
   "cell_type": "markdown",
   "source": "",
   "id": "2c128a3289f0db68"
  },
  {
   "metadata": {
    "ExecuteTime": {
     "end_time": "2024-10-06T23:33:35.566920Z",
     "start_time": "2024-10-06T23:33:35.558489Z"
    }
   },
   "cell_type": "code",
   "source": [
    "Summary_statistics=pd.merge(Summary_statistics,w_t_tangency,left_index=True,right_index=True)\n",
    "Summary_statistics"
   ],
   "id": "2c5a38115367b60a",
   "outputs": [
    {
     "data": {
      "text/plain": [
       "         Mean  Volatility    Sharpe  Tangency Weights\n",
       "BWX -0.011888    0.081671 -0.504246          2.730253\n",
       "DBC -0.009086    0.168455 -0.186836         -0.111241\n",
       "EEM  0.026960    0.179940  0.519023         -0.615698\n",
       "EFA  0.055037    0.152203  1.252636          0.530692\n",
       "HYG  0.037356    0.077289  1.674320         -0.832578\n",
       "IEF  0.013939    0.063197  0.764046         -4.682480\n",
       "IYR  0.077912    0.169585  1.591499          0.877108\n",
       "PSP  0.092851    0.215238  1.494366          0.277002\n",
       "QAI  0.014959    0.049007  1.057387          7.220592\n",
       "SPY  0.126983    0.143066  3.074660         -4.904086\n",
       "TIP  0.016844    0.051258  1.138368          0.510436"
      ],
      "text/html": [
       "<div>\n",
       "<style scoped>\n",
       "    .dataframe tbody tr th:only-of-type {\n",
       "        vertical-align: middle;\n",
       "    }\n",
       "\n",
       "    .dataframe tbody tr th {\n",
       "        vertical-align: top;\n",
       "    }\n",
       "\n",
       "    .dataframe thead th {\n",
       "        text-align: right;\n",
       "    }\n",
       "</style>\n",
       "<table border=\"1\" class=\"dataframe\">\n",
       "  <thead>\n",
       "    <tr style=\"text-align: right;\">\n",
       "      <th></th>\n",
       "      <th>Mean</th>\n",
       "      <th>Volatility</th>\n",
       "      <th>Sharpe</th>\n",
       "      <th>Tangency Weights</th>\n",
       "    </tr>\n",
       "  </thead>\n",
       "  <tbody>\n",
       "    <tr>\n",
       "      <th>BWX</th>\n",
       "      <td>-0.011888</td>\n",
       "      <td>0.081671</td>\n",
       "      <td>-0.504246</td>\n",
       "      <td>2.730253</td>\n",
       "    </tr>\n",
       "    <tr>\n",
       "      <th>DBC</th>\n",
       "      <td>-0.009086</td>\n",
       "      <td>0.168455</td>\n",
       "      <td>-0.186836</td>\n",
       "      <td>-0.111241</td>\n",
       "    </tr>\n",
       "    <tr>\n",
       "      <th>EEM</th>\n",
       "      <td>0.026960</td>\n",
       "      <td>0.179940</td>\n",
       "      <td>0.519023</td>\n",
       "      <td>-0.615698</td>\n",
       "    </tr>\n",
       "    <tr>\n",
       "      <th>EFA</th>\n",
       "      <td>0.055037</td>\n",
       "      <td>0.152203</td>\n",
       "      <td>1.252636</td>\n",
       "      <td>0.530692</td>\n",
       "    </tr>\n",
       "    <tr>\n",
       "      <th>HYG</th>\n",
       "      <td>0.037356</td>\n",
       "      <td>0.077289</td>\n",
       "      <td>1.674320</td>\n",
       "      <td>-0.832578</td>\n",
       "    </tr>\n",
       "    <tr>\n",
       "      <th>IEF</th>\n",
       "      <td>0.013939</td>\n",
       "      <td>0.063197</td>\n",
       "      <td>0.764046</td>\n",
       "      <td>-4.682480</td>\n",
       "    </tr>\n",
       "    <tr>\n",
       "      <th>IYR</th>\n",
       "      <td>0.077912</td>\n",
       "      <td>0.169585</td>\n",
       "      <td>1.591499</td>\n",
       "      <td>0.877108</td>\n",
       "    </tr>\n",
       "    <tr>\n",
       "      <th>PSP</th>\n",
       "      <td>0.092851</td>\n",
       "      <td>0.215238</td>\n",
       "      <td>1.494366</td>\n",
       "      <td>0.277002</td>\n",
       "    </tr>\n",
       "    <tr>\n",
       "      <th>QAI</th>\n",
       "      <td>0.014959</td>\n",
       "      <td>0.049007</td>\n",
       "      <td>1.057387</td>\n",
       "      <td>7.220592</td>\n",
       "    </tr>\n",
       "    <tr>\n",
       "      <th>SPY</th>\n",
       "      <td>0.126983</td>\n",
       "      <td>0.143066</td>\n",
       "      <td>3.074660</td>\n",
       "      <td>-4.904086</td>\n",
       "    </tr>\n",
       "    <tr>\n",
       "      <th>TIP</th>\n",
       "      <td>0.016844</td>\n",
       "      <td>0.051258</td>\n",
       "      <td>1.138368</td>\n",
       "      <td>0.510436</td>\n",
       "    </tr>\n",
       "  </tbody>\n",
       "</table>\n",
       "</div>"
      ]
     },
     "execution_count": 181,
     "metadata": {},
     "output_type": "execute_result"
    }
   ],
   "execution_count": 181
  },
  {
   "metadata": {},
   "cell_type": "markdown",
   "source": "",
   "id": "9a92b17877bb7f9b"
  },
  {
   "metadata": {},
   "cell_type": "markdown",
   "source": "Based on the data above we can see that the individual sharpe ratios do not align with the weights of the tangency portfolio. The goal of the portfolio is to maximize the sharpe of the portfolio. This is due to the fact that the tangency portfolio itself returns a negative sharpe during this portfolio which isn't common, so we should really be shorting the tangency portfolio and going long the risk free rate. ",
   "id": "4c9d5a419dada12f"
  },
  {
   "metadata": {
    "ExecuteTime": {
     "end_time": "2024-10-06T23:33:37.526562Z",
     "start_time": "2024-10-06T23:33:37.521169Z"
    }
   },
   "cell_type": "code",
   "source": [
    "tangency_return=np.transpose(Summary_statistics['Tangency Weights']) @  Summary_statistics['Mean']\n",
    "tangency_risk=np.sqrt(np.transpose(Summary_statistics['Tangency Weights']) @   excess_returns.cov() @ Summary_statistics['Tangency Weights']) * np.sqrt(12)\n",
    "tangency_sharpe= (tangency_return / tangency_risk) * np.sqrt(12)\n",
    "print(f\"Tangency Return: {tangency_return}\")\n",
    "print(f\"Tangency Risk: {tangency_risk}\")\n",
    "print(f\"Tangency Sharpe: {tangency_sharpe}\")"
   ],
   "id": "c7a0354bfad20358",
   "outputs": [
    {
     "name": "stdout",
     "output_type": "stream",
     "text": [
      "Tangency Return: -0.5272759704594776\n",
      "Tangency Risk: 0.328513333962669\n",
      "Tangency Sharpe: -5.560010362013384\n"
     ]
    }
   ],
   "execution_count": 182
  },
  {
   "metadata": {},
   "cell_type": "markdown",
   "source": [
    "## 4. TIPS\n",
    "Assess how much the tangency portfolio (and performance) change if...\n",
    "* TIPS are dropped completely from the investment set.\n",
    "* The expected excess return to TIPS is adjusted to be 0.0012 higher than what the historic sample shows.\n",
    "\n",
    "Based on the analysis, do TIPS seem to expand the investment opportunity set, implying that Harvard should consider them as a separate asset?"
   ],
   "id": "948d0d9034a8757e"
  },
  {
   "metadata": {},
   "cell_type": "markdown",
   "source": "TIPS Dropped Completely ",
   "id": "1c5404aa1dd40b56"
  },
  {
   "metadata": {
    "ExecuteTime": {
     "end_time": "2024-10-06T23:33:39.260192Z",
     "start_time": "2024-10-06T23:33:39.256035Z"
    }
   },
   "cell_type": "code",
   "source": [
    "excess_returns_no_tip=excess_returns.drop(columns=\"TIP\")\n",
    "tan_weights_w_o_tips=tangency_portfolio_weights(excess_returns_no_tip)\n",
    "tan_weights_w_o_tips=tan_weights_w_o_tips.to_frame(tan_weights_w_o_tips)\n",
    "tan_weights_w_o_tips.columns.values[0] = 'Tangency Weights without TIPS'"
   ],
   "id": "d363d4740576793",
   "outputs": [],
   "execution_count": 183
  },
  {
   "metadata": {},
   "cell_type": "markdown",
   "source": "",
   "id": "a3e27dfe6b36ddad"
  },
  {
   "metadata": {
    "ExecuteTime": {
     "end_time": "2024-10-06T23:33:40.314995Z",
     "start_time": "2024-10-06T23:33:40.306762Z"
    }
   },
   "cell_type": "code",
   "source": [
    "Summary_statistics=pd.merge(Summary_statistics,tan_weights_w_o_tips,left_index=True,right_index=True,how='left')\n",
    "Summary_statistics"
   ],
   "id": "cb58a67f0d05f647",
   "outputs": [
    {
     "data": {
      "text/plain": [
       "         Mean  Volatility    Sharpe  Tangency Weights  \\\n",
       "BWX -0.011888    0.081671 -0.504246          2.730253   \n",
       "DBC -0.009086    0.168455 -0.186836         -0.111241   \n",
       "EEM  0.026960    0.179940  0.519023         -0.615698   \n",
       "EFA  0.055037    0.152203  1.252636          0.530692   \n",
       "HYG  0.037356    0.077289  1.674320         -0.832578   \n",
       "IEF  0.013939    0.063197  0.764046         -4.682480   \n",
       "IYR  0.077912    0.169585  1.591499          0.877108   \n",
       "PSP  0.092851    0.215238  1.494366          0.277002   \n",
       "QAI  0.014959    0.049007  1.057387          7.220592   \n",
       "SPY  0.126983    0.143066  3.074660         -4.904086   \n",
       "TIP  0.016844    0.051258  1.138368          0.510436   \n",
       "\n",
       "     Tangency Weights without TIPS  \n",
       "BWX                       3.015911  \n",
       "DBC                      -0.090968  \n",
       "EEM                      -0.664230  \n",
       "EFA                       0.540606  \n",
       "HYG                      -0.871637  \n",
       "IEF                      -4.832385  \n",
       "IYR                       0.990156  \n",
       "PSP                       0.324898  \n",
       "QAI                       7.976911  \n",
       "SPY                      -5.389260  \n",
       "TIP                            NaN  "
      ],
      "text/html": [
       "<div>\n",
       "<style scoped>\n",
       "    .dataframe tbody tr th:only-of-type {\n",
       "        vertical-align: middle;\n",
       "    }\n",
       "\n",
       "    .dataframe tbody tr th {\n",
       "        vertical-align: top;\n",
       "    }\n",
       "\n",
       "    .dataframe thead th {\n",
       "        text-align: right;\n",
       "    }\n",
       "</style>\n",
       "<table border=\"1\" class=\"dataframe\">\n",
       "  <thead>\n",
       "    <tr style=\"text-align: right;\">\n",
       "      <th></th>\n",
       "      <th>Mean</th>\n",
       "      <th>Volatility</th>\n",
       "      <th>Sharpe</th>\n",
       "      <th>Tangency Weights</th>\n",
       "      <th>Tangency Weights without TIPS</th>\n",
       "    </tr>\n",
       "  </thead>\n",
       "  <tbody>\n",
       "    <tr>\n",
       "      <th>BWX</th>\n",
       "      <td>-0.011888</td>\n",
       "      <td>0.081671</td>\n",
       "      <td>-0.504246</td>\n",
       "      <td>2.730253</td>\n",
       "      <td>3.015911</td>\n",
       "    </tr>\n",
       "    <tr>\n",
       "      <th>DBC</th>\n",
       "      <td>-0.009086</td>\n",
       "      <td>0.168455</td>\n",
       "      <td>-0.186836</td>\n",
       "      <td>-0.111241</td>\n",
       "      <td>-0.090968</td>\n",
       "    </tr>\n",
       "    <tr>\n",
       "      <th>EEM</th>\n",
       "      <td>0.026960</td>\n",
       "      <td>0.179940</td>\n",
       "      <td>0.519023</td>\n",
       "      <td>-0.615698</td>\n",
       "      <td>-0.664230</td>\n",
       "    </tr>\n",
       "    <tr>\n",
       "      <th>EFA</th>\n",
       "      <td>0.055037</td>\n",
       "      <td>0.152203</td>\n",
       "      <td>1.252636</td>\n",
       "      <td>0.530692</td>\n",
       "      <td>0.540606</td>\n",
       "    </tr>\n",
       "    <tr>\n",
       "      <th>HYG</th>\n",
       "      <td>0.037356</td>\n",
       "      <td>0.077289</td>\n",
       "      <td>1.674320</td>\n",
       "      <td>-0.832578</td>\n",
       "      <td>-0.871637</td>\n",
       "    </tr>\n",
       "    <tr>\n",
       "      <th>IEF</th>\n",
       "      <td>0.013939</td>\n",
       "      <td>0.063197</td>\n",
       "      <td>0.764046</td>\n",
       "      <td>-4.682480</td>\n",
       "      <td>-4.832385</td>\n",
       "    </tr>\n",
       "    <tr>\n",
       "      <th>IYR</th>\n",
       "      <td>0.077912</td>\n",
       "      <td>0.169585</td>\n",
       "      <td>1.591499</td>\n",
       "      <td>0.877108</td>\n",
       "      <td>0.990156</td>\n",
       "    </tr>\n",
       "    <tr>\n",
       "      <th>PSP</th>\n",
       "      <td>0.092851</td>\n",
       "      <td>0.215238</td>\n",
       "      <td>1.494366</td>\n",
       "      <td>0.277002</td>\n",
       "      <td>0.324898</td>\n",
       "    </tr>\n",
       "    <tr>\n",
       "      <th>QAI</th>\n",
       "      <td>0.014959</td>\n",
       "      <td>0.049007</td>\n",
       "      <td>1.057387</td>\n",
       "      <td>7.220592</td>\n",
       "      <td>7.976911</td>\n",
       "    </tr>\n",
       "    <tr>\n",
       "      <th>SPY</th>\n",
       "      <td>0.126983</td>\n",
       "      <td>0.143066</td>\n",
       "      <td>3.074660</td>\n",
       "      <td>-4.904086</td>\n",
       "      <td>-5.389260</td>\n",
       "    </tr>\n",
       "    <tr>\n",
       "      <th>TIP</th>\n",
       "      <td>0.016844</td>\n",
       "      <td>0.051258</td>\n",
       "      <td>1.138368</td>\n",
       "      <td>0.510436</td>\n",
       "      <td>NaN</td>\n",
       "    </tr>\n",
       "  </tbody>\n",
       "</table>\n",
       "</div>"
      ]
     },
     "execution_count": 184,
     "metadata": {},
     "output_type": "execute_result"
    }
   ],
   "execution_count": 184
  },
  {
   "metadata": {},
   "cell_type": "markdown",
   "source": "Increase TIP by .0012",
   "id": "6c9fbf5045c143fe"
  },
  {
   "metadata": {
    "ExecuteTime": {
     "end_time": "2024-10-06T23:33:41.599765Z",
     "start_time": "2024-10-06T23:33:41.594740Z"
    }
   },
   "cell_type": "code",
   "source": [
    "excess_return_mean_newtip = excess_returns\n",
    "excess_return_mean_newtip['TIP'] += .0012\n",
    "\n",
    "\n",
    "tan_weights_w_newtip=tangency_portfolio_weights(excess_return_mean_newtip)\n",
    "tan_weights_w_newtip=tan_weights_w_newtip.to_frame(tan_weights_w_newtip)\n",
    "tan_weights_w_newtip.columns.values[0] = 'Tangency Weights with adjusted TIPS'\n",
    "\n"
   ],
   "id": "34b399865145eaff",
   "outputs": [],
   "execution_count": 185
  },
  {
   "metadata": {},
   "cell_type": "markdown",
   "source": "",
   "id": "cdf60c146ace8701"
  },
  {
   "metadata": {
    "ExecuteTime": {
     "end_time": "2024-10-06T23:33:42.613312Z",
     "start_time": "2024-10-06T23:33:42.604477Z"
    }
   },
   "cell_type": "code",
   "source": [
    "Summary_statistics=pd.merge(Summary_statistics,tan_weights_w_newtip,left_index=True,right_index=True,how='left')\n",
    "Summary_statistics"
   ],
   "id": "125f397a219ed341",
   "outputs": [
    {
     "data": {
      "text/plain": [
       "         Mean  Volatility    Sharpe  Tangency Weights  \\\n",
       "BWX -0.011888    0.081671 -0.504246          2.730253   \n",
       "DBC -0.009086    0.168455 -0.186836         -0.111241   \n",
       "EEM  0.026960    0.179940  0.519023         -0.615698   \n",
       "EFA  0.055037    0.152203  1.252636          0.530692   \n",
       "HYG  0.037356    0.077289  1.674320         -0.832578   \n",
       "IEF  0.013939    0.063197  0.764046         -4.682480   \n",
       "IYR  0.077912    0.169585  1.591499          0.877108   \n",
       "PSP  0.092851    0.215238  1.494366          0.277002   \n",
       "QAI  0.014959    0.049007  1.057387          7.220592   \n",
       "SPY  0.126983    0.143066  3.074660         -4.904086   \n",
       "TIP  0.016844    0.051258  1.138368          0.510436   \n",
       "\n",
       "     Tangency Weights without TIPS  Tangency Weights with adjusted TIPS  \n",
       "BWX                       3.015911                            29.260095  \n",
       "DBC                      -0.090968                             1.771624  \n",
       "EEM                      -0.664230                            -5.123028  \n",
       "EFA                       0.540606                             1.451443  \n",
       "HYG                      -0.871637                            -4.460119  \n",
       "IEF                      -4.832385                           -18.604613  \n",
       "IYR                       0.990156                            11.376147  \n",
       "PSP                       0.324898                             4.725247  \n",
       "QAI                       7.976911                            77.462118  \n",
       "SPY                      -5.389260                           -49.963644  \n",
       "TIP                            NaN                           -46.895270  "
      ],
      "text/html": [
       "<div>\n",
       "<style scoped>\n",
       "    .dataframe tbody tr th:only-of-type {\n",
       "        vertical-align: middle;\n",
       "    }\n",
       "\n",
       "    .dataframe tbody tr th {\n",
       "        vertical-align: top;\n",
       "    }\n",
       "\n",
       "    .dataframe thead th {\n",
       "        text-align: right;\n",
       "    }\n",
       "</style>\n",
       "<table border=\"1\" class=\"dataframe\">\n",
       "  <thead>\n",
       "    <tr style=\"text-align: right;\">\n",
       "      <th></th>\n",
       "      <th>Mean</th>\n",
       "      <th>Volatility</th>\n",
       "      <th>Sharpe</th>\n",
       "      <th>Tangency Weights</th>\n",
       "      <th>Tangency Weights without TIPS</th>\n",
       "      <th>Tangency Weights with adjusted TIPS</th>\n",
       "    </tr>\n",
       "  </thead>\n",
       "  <tbody>\n",
       "    <tr>\n",
       "      <th>BWX</th>\n",
       "      <td>-0.011888</td>\n",
       "      <td>0.081671</td>\n",
       "      <td>-0.504246</td>\n",
       "      <td>2.730253</td>\n",
       "      <td>3.015911</td>\n",
       "      <td>29.260095</td>\n",
       "    </tr>\n",
       "    <tr>\n",
       "      <th>DBC</th>\n",
       "      <td>-0.009086</td>\n",
       "      <td>0.168455</td>\n",
       "      <td>-0.186836</td>\n",
       "      <td>-0.111241</td>\n",
       "      <td>-0.090968</td>\n",
       "      <td>1.771624</td>\n",
       "    </tr>\n",
       "    <tr>\n",
       "      <th>EEM</th>\n",
       "      <td>0.026960</td>\n",
       "      <td>0.179940</td>\n",
       "      <td>0.519023</td>\n",
       "      <td>-0.615698</td>\n",
       "      <td>-0.664230</td>\n",
       "      <td>-5.123028</td>\n",
       "    </tr>\n",
       "    <tr>\n",
       "      <th>EFA</th>\n",
       "      <td>0.055037</td>\n",
       "      <td>0.152203</td>\n",
       "      <td>1.252636</td>\n",
       "      <td>0.530692</td>\n",
       "      <td>0.540606</td>\n",
       "      <td>1.451443</td>\n",
       "    </tr>\n",
       "    <tr>\n",
       "      <th>HYG</th>\n",
       "      <td>0.037356</td>\n",
       "      <td>0.077289</td>\n",
       "      <td>1.674320</td>\n",
       "      <td>-0.832578</td>\n",
       "      <td>-0.871637</td>\n",
       "      <td>-4.460119</td>\n",
       "    </tr>\n",
       "    <tr>\n",
       "      <th>IEF</th>\n",
       "      <td>0.013939</td>\n",
       "      <td>0.063197</td>\n",
       "      <td>0.764046</td>\n",
       "      <td>-4.682480</td>\n",
       "      <td>-4.832385</td>\n",
       "      <td>-18.604613</td>\n",
       "    </tr>\n",
       "    <tr>\n",
       "      <th>IYR</th>\n",
       "      <td>0.077912</td>\n",
       "      <td>0.169585</td>\n",
       "      <td>1.591499</td>\n",
       "      <td>0.877108</td>\n",
       "      <td>0.990156</td>\n",
       "      <td>11.376147</td>\n",
       "    </tr>\n",
       "    <tr>\n",
       "      <th>PSP</th>\n",
       "      <td>0.092851</td>\n",
       "      <td>0.215238</td>\n",
       "      <td>1.494366</td>\n",
       "      <td>0.277002</td>\n",
       "      <td>0.324898</td>\n",
       "      <td>4.725247</td>\n",
       "    </tr>\n",
       "    <tr>\n",
       "      <th>QAI</th>\n",
       "      <td>0.014959</td>\n",
       "      <td>0.049007</td>\n",
       "      <td>1.057387</td>\n",
       "      <td>7.220592</td>\n",
       "      <td>7.976911</td>\n",
       "      <td>77.462118</td>\n",
       "    </tr>\n",
       "    <tr>\n",
       "      <th>SPY</th>\n",
       "      <td>0.126983</td>\n",
       "      <td>0.143066</td>\n",
       "      <td>3.074660</td>\n",
       "      <td>-4.904086</td>\n",
       "      <td>-5.389260</td>\n",
       "      <td>-49.963644</td>\n",
       "    </tr>\n",
       "    <tr>\n",
       "      <th>TIP</th>\n",
       "      <td>0.016844</td>\n",
       "      <td>0.051258</td>\n",
       "      <td>1.138368</td>\n",
       "      <td>0.510436</td>\n",
       "      <td>NaN</td>\n",
       "      <td>-46.895270</td>\n",
       "    </tr>\n",
       "  </tbody>\n",
       "</table>\n",
       "</div>"
      ]
     },
     "execution_count": 186,
     "metadata": {},
     "output_type": "execute_result"
    }
   ],
   "execution_count": 186
  },
  {
   "metadata": {},
   "cell_type": "markdown",
   "source": [
    "Build the following portfolios:\n",
    "\n",
    "#### Equally-weighted (EW)\n",
    "Rescale the entire weighting vector to have target mean $\\mutarg$. Thus, the $i$ element of the weight vector is,\n",
    "$$\\wEW_i = \\frac{1}{n}$$"
   ],
   "id": "838d3410738db2dc"
  },
  {
   "metadata": {},
   "cell_type": "markdown",
   "source": "Equal Weights",
   "id": "a3e6e0154d81bb74"
  },
  {
   "metadata": {
    "ExecuteTime": {
     "end_time": "2024-10-06T23:33:44.536497Z",
     "start_time": "2024-10-06T23:33:44.533552Z"
    }
   },
   "cell_type": "code",
   "source": [
    "n=len(Summary_statistics)\n",
    "target=.01\n",
    "Summary_statistics['Equal_Weights']=1/n\n",
    "\n"
   ],
   "id": "7a7cc673168e8a5a",
   "outputs": [],
   "execution_count": 187
  },
  {
   "metadata": {},
   "cell_type": "markdown",
   "source": "Risk Parity",
   "id": "bcc4e3e94491d393"
  },
  {
   "metadata": {
    "ExecuteTime": {
     "end_time": "2024-10-06T23:33:45.612230Z",
     "start_time": "2024-10-06T23:33:45.607867Z"
    }
   },
   "cell_type": "code",
   "source": "Summary_statistics['Risk_Parity_Weights']=excess_returns.var()\n",
   "id": "15f383b1c9dbc219",
   "outputs": [],
   "execution_count": 188
  },
  {
   "metadata": {},
   "cell_type": "markdown",
   "source": "Regularized",
   "id": "85e874d575808b42"
  },
  {
   "metadata": {
    "ExecuteTime": {
     "end_time": "2024-10-06T23:33:46.656536Z",
     "start_time": "2024-10-06T23:33:46.649925Z"
    }
   },
   "cell_type": "code",
   "source": [
    "def regularized(excess_returns: pd.DataFrame):\n",
    "    \"\"\"\n",
    "    Calculate tangency portfolio weights from excess returns data.\n",
    "\n",
    "    Parameters:\n",
    "    excess_returns (pd.DataFrame): A DataFrame where rows are observations (e.g., time periods)\n",
    "                                   and columns are assets, containing the excess returns.\n",
    "\n",
    "    Returns:\n",
    "    pd.Series: Weights of the tangency portfolio.\n",
    "    \"\"\"\n",
    "    # Calculate mean and covariance of excess returns\n",
    "    mean_excess_returns = excess_returns.mean()\n",
    "    cov_matrix = excess_returns.cov() *.5\n",
    "\n",
    "    # Calculate inverse of covariance matrix\n",
    "    inv_cov_matrix = np.linalg.inv(cov_matrix)\n",
    "\n",
    "    # Calculate tangency portfolio weights\n",
    "    weights = inv_cov_matrix @ mean_excess_returns\n",
    "    weights /= weights.sum()  # Normalize weights to sum to 1\n",
    "\n",
    "    return pd.Series(weights, index=excess_returns.columns)\n",
    "\n",
    "regularized_weights=regularized(excess_returns)\n",
    "regularized_weights=regularized_weights.to_frame(regularized_weights)\n",
    "regularized_weights.columns.values[0] = 'Regularized_Weights'\n",
    "\n",
    "Summary_statistics=pd.merge(Summary_statistics,regularized_weights,left_index=True,right_index=True,how='left')\n",
    "\n",
    "\n"
   ],
   "id": "244611cc2c43c9fc",
   "outputs": [],
   "execution_count": 189
  },
  {
   "metadata": {},
   "cell_type": "markdown",
   "source": [
    "Calculate the performance of each of these portfolios over the sample.\n",
    "* Report their mean, volatility, and Sharpe ratio. \n",
    "* How do these compare across the four allocation methods?"
   ],
   "id": "5ae94ea4b2886529"
  },
  {
   "metadata": {
    "ExecuteTime": {
     "end_time": "2024-10-06T23:33:48.299537Z",
     "start_time": "2024-10-06T23:33:48.295736Z"
    }
   },
   "cell_type": "code",
   "source": "",
   "id": "f1bd49f7bb9516d8",
   "outputs": [],
   "execution_count": 190
  },
  {
   "metadata": {
    "ExecuteTime": {
     "end_time": "2024-10-06T23:39:22.145484Z",
     "start_time": "2024-10-06T23:39:22.135560Z"
    }
   },
   "cell_type": "code",
   "source": [
    "def summary_statistics_annualized(returns, annual_factor = 12):\n",
    "    \"\"\"This functions returns the summary statistics for the input total/excess returns passed\n",
    "    into the function\"\"\"\n",
    "\n",
    "    summary_statistics = pd.DataFrame(index=returns.columns)\n",
    "    summary_statistics['Mean'] = returns.mean() * annual_factor\n",
    "    summary_statistics['Vol'] = returns.std() * np.sqrt(annual_factor)\n",
    "    summary_statistics['Sharpe'] = (returns.mean() / returns.std()) * np.sqrt(annual_factor)\n",
    "\n",
    "    return summary_statistics\n",
    "\n",
    "Comparison=Summary_statistics[['Tangency Weights','Equal_Weights','Risk_Parity_Weights','Regularized_Weights']]\n",
    "\n",
    "Comparison *= target / (excess_returns.mean()@Comparison)\n",
    "\n",
    "Comparison\n"
   ],
   "id": "a1ec7e495588d4b",
   "outputs": [
    {
     "data": {
      "text/plain": [
       "     Tangency Weights  Equal_Weights  Risk_Parity_Weights  Regularized_Weights\n",
       "BWX         -0.630149       0.263004             0.070529            -0.568707\n",
       "DBC          0.025675       0.263004             0.300052            -0.034434\n",
       "EEM          0.142104       0.263004             0.342360             0.099573\n",
       "EFA         -0.122485       0.263004             0.244948            -0.028211\n",
       "HYG          0.192161       0.263004             0.063163             0.086688\n",
       "IEF          1.080727       0.263004             0.042229             0.361604\n",
       "IYR         -0.202439       0.263004             0.304089            -0.221110\n",
       "PSP         -0.063933       0.263004             0.489853            -0.091841\n",
       "QAI         -1.666529       0.263004             0.025395            -1.505575\n",
       "SPY          1.131874       0.263004             0.216423             0.971107\n",
       "TIP         -0.117810       0.263004             0.027781             0.911470"
      ],
      "text/html": [
       "<div>\n",
       "<style scoped>\n",
       "    .dataframe tbody tr th:only-of-type {\n",
       "        vertical-align: middle;\n",
       "    }\n",
       "\n",
       "    .dataframe tbody tr th {\n",
       "        vertical-align: top;\n",
       "    }\n",
       "\n",
       "    .dataframe thead th {\n",
       "        text-align: right;\n",
       "    }\n",
       "</style>\n",
       "<table border=\"1\" class=\"dataframe\">\n",
       "  <thead>\n",
       "    <tr style=\"text-align: right;\">\n",
       "      <th></th>\n",
       "      <th>Tangency Weights</th>\n",
       "      <th>Equal_Weights</th>\n",
       "      <th>Risk_Parity_Weights</th>\n",
       "      <th>Regularized_Weights</th>\n",
       "    </tr>\n",
       "  </thead>\n",
       "  <tbody>\n",
       "    <tr>\n",
       "      <th>BWX</th>\n",
       "      <td>-0.630149</td>\n",
       "      <td>0.263004</td>\n",
       "      <td>0.070529</td>\n",
       "      <td>-0.568707</td>\n",
       "    </tr>\n",
       "    <tr>\n",
       "      <th>DBC</th>\n",
       "      <td>0.025675</td>\n",
       "      <td>0.263004</td>\n",
       "      <td>0.300052</td>\n",
       "      <td>-0.034434</td>\n",
       "    </tr>\n",
       "    <tr>\n",
       "      <th>EEM</th>\n",
       "      <td>0.142104</td>\n",
       "      <td>0.263004</td>\n",
       "      <td>0.342360</td>\n",
       "      <td>0.099573</td>\n",
       "    </tr>\n",
       "    <tr>\n",
       "      <th>EFA</th>\n",
       "      <td>-0.122485</td>\n",
       "      <td>0.263004</td>\n",
       "      <td>0.244948</td>\n",
       "      <td>-0.028211</td>\n",
       "    </tr>\n",
       "    <tr>\n",
       "      <th>HYG</th>\n",
       "      <td>0.192161</td>\n",
       "      <td>0.263004</td>\n",
       "      <td>0.063163</td>\n",
       "      <td>0.086688</td>\n",
       "    </tr>\n",
       "    <tr>\n",
       "      <th>IEF</th>\n",
       "      <td>1.080727</td>\n",
       "      <td>0.263004</td>\n",
       "      <td>0.042229</td>\n",
       "      <td>0.361604</td>\n",
       "    </tr>\n",
       "    <tr>\n",
       "      <th>IYR</th>\n",
       "      <td>-0.202439</td>\n",
       "      <td>0.263004</td>\n",
       "      <td>0.304089</td>\n",
       "      <td>-0.221110</td>\n",
       "    </tr>\n",
       "    <tr>\n",
       "      <th>PSP</th>\n",
       "      <td>-0.063933</td>\n",
       "      <td>0.263004</td>\n",
       "      <td>0.489853</td>\n",
       "      <td>-0.091841</td>\n",
       "    </tr>\n",
       "    <tr>\n",
       "      <th>QAI</th>\n",
       "      <td>-1.666529</td>\n",
       "      <td>0.263004</td>\n",
       "      <td>0.025395</td>\n",
       "      <td>-1.505575</td>\n",
       "    </tr>\n",
       "    <tr>\n",
       "      <th>SPY</th>\n",
       "      <td>1.131874</td>\n",
       "      <td>0.263004</td>\n",
       "      <td>0.216423</td>\n",
       "      <td>0.971107</td>\n",
       "    </tr>\n",
       "    <tr>\n",
       "      <th>TIP</th>\n",
       "      <td>-0.117810</td>\n",
       "      <td>0.263004</td>\n",
       "      <td>0.027781</td>\n",
       "      <td>0.911470</td>\n",
       "    </tr>\n",
       "  </tbody>\n",
       "</table>\n",
       "</div>"
      ]
     },
     "execution_count": 197,
     "metadata": {},
     "output_type": "execute_result"
    }
   ],
   "execution_count": 197
  },
  {
   "metadata": {
    "ExecuteTime": {
     "end_time": "2024-10-06T23:39:57.053510Z",
     "start_time": "2024-10-06T23:39:57.045089Z"
    }
   },
   "cell_type": "code",
   "source": "summary_statistics_annualized(excess_returns @ Comparison) ",
   "id": "1bc74ffba4c37d5d",
   "outputs": [
    {
     "data": {
      "text/plain": [
       "                     Mean       Vol    Sharpe\n",
       "Tangency Weights     0.12  0.075822  1.582662\n",
       "Equal_Weights        0.12  0.282326  0.425040\n",
       "Risk_Parity_Weights  0.12  0.299271  0.400974\n",
       "Regularized_Weights  0.12  0.071055  1.688844"
      ],
      "text/html": [
       "<div>\n",
       "<style scoped>\n",
       "    .dataframe tbody tr th:only-of-type {\n",
       "        vertical-align: middle;\n",
       "    }\n",
       "\n",
       "    .dataframe tbody tr th {\n",
       "        vertical-align: top;\n",
       "    }\n",
       "\n",
       "    .dataframe thead th {\n",
       "        text-align: right;\n",
       "    }\n",
       "</style>\n",
       "<table border=\"1\" class=\"dataframe\">\n",
       "  <thead>\n",
       "    <tr style=\"text-align: right;\">\n",
       "      <th></th>\n",
       "      <th>Mean</th>\n",
       "      <th>Vol</th>\n",
       "      <th>Sharpe</th>\n",
       "    </tr>\n",
       "  </thead>\n",
       "  <tbody>\n",
       "    <tr>\n",
       "      <th>Tangency Weights</th>\n",
       "      <td>0.12</td>\n",
       "      <td>0.075822</td>\n",
       "      <td>1.582662</td>\n",
       "    </tr>\n",
       "    <tr>\n",
       "      <th>Equal_Weights</th>\n",
       "      <td>0.12</td>\n",
       "      <td>0.282326</td>\n",
       "      <td>0.425040</td>\n",
       "    </tr>\n",
       "    <tr>\n",
       "      <th>Risk_Parity_Weights</th>\n",
       "      <td>0.12</td>\n",
       "      <td>0.299271</td>\n",
       "      <td>0.400974</td>\n",
       "    </tr>\n",
       "    <tr>\n",
       "      <th>Regularized_Weights</th>\n",
       "      <td>0.12</td>\n",
       "      <td>0.071055</td>\n",
       "      <td>1.688844</td>\n",
       "    </tr>\n",
       "  </tbody>\n",
       "</table>\n",
       "</div>"
      ]
     },
     "execution_count": 198,
     "metadata": {},
     "output_type": "execute_result"
    }
   ],
   "execution_count": 198
  },
  {
   "metadata": {},
   "cell_type": "markdown",
   "source": "",
   "id": "2278118aa245757"
  },
  {
   "metadata": {},
   "cell_type": "markdown",
   "source": "",
   "id": "ad6a75accc9b6eb8"
  }
 ],
 "metadata": {
  "kernelspec": {
   "display_name": "Python 3",
   "language": "python",
   "name": "python3"
  },
  "language_info": {
   "codemirror_mode": {
    "name": "ipython",
    "version": 2
   },
   "file_extension": ".py",
   "mimetype": "text/x-python",
   "name": "python",
   "nbconvert_exporter": "python",
   "pygments_lexer": "ipython2",
   "version": "2.7.6"
  }
 },
 "nbformat": 4,
 "nbformat_minor": 5
}

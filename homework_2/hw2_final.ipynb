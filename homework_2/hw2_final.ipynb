{
 "cells": [
  {
   "cell_type": "markdown",
   "id": "e3eee68c",
   "metadata": {},
   "source": [
    "# Homework 2\n",
    "\n",
    "## FINM 36700 - 2024\n",
    "\n",
    "### UChicago Financial Mathematics\n",
    "\n",
    "* Mark Hendricks\n",
    "* hendricks@uchicago.edu\n",
    "\n",
    "## HBS Case\n",
    "\n",
    "### *ProShares Hedge Replication ETF*"
   ]
  },
  {
   "cell_type": "markdown",
   "id": "d66d45af-efbc-45b7-86f0-0227f10dac64",
   "metadata": {},
   "source": [
    "### Submitted By:\n",
    "- Arohan Sharma\n",
    "- Emma Wang\n",
    "- Brian Wickman\n",
    "- Mooseok (Keving) Kang\n",
    "- Gurjivan Kalkat"
   ]
  },
  {
   "cell_type": "markdown",
   "id": "3ed4b263",
   "metadata": {},
   "source": [
    "***"
   ]
  },
  {
   "cell_type": "markdown",
   "id": "fbbf79a1",
   "metadata": {},
   "source": [
    "# 2.  Analyzing the Data\n",
    "\n",
    "Use the data found on Canvas, in <b>'proshares analysis data.xlsx'</b>. \n",
    "\n",
    "It has monthly data on financial indexes and ETFs from `Aug 2011` through `Sep 2024`."
   ]
  },
  {
   "cell_type": "code",
   "execution_count": 11,
   "id": "a9f8f169-400e-4465-b9c1-1eeaceb3f188",
   "metadata": {
    "tags": []
   },
   "outputs": [],
   "source": [
    "import pandas as pd\n",
    "\n",
    "sheet_names = ['descriptions', 'hedge_fund_series', 'merrill_factors', 'other_data']\n",
    "proshares_analysis_data = {}\n",
    "\n",
    "for sheet in sheet_names:\n",
    "    proshares_analysis_data[sheet] = pd.read_excel(\n",
    "        r'/Users/arohansharma/Desktop/assignments/finm-portfolio-2024/data/proshares_analysis_data.xlsx', \n",
    "        header=0, index_col=0, sheet_name=sheet)"
   ]
  },
  {
   "cell_type": "markdown",
   "id": "22b7389c",
   "metadata": {},
   "source": [
    "## 1. \n",
    "\n",
    "For the series in the \"hedge fund series\" tab, report the following summary statistics:\n",
    "* mean\n",
    "* volatility\n",
    "* Sharpe ratio\n",
    "\n",
    "Annualize these statistics."
   ]
  },
  {
   "cell_type": "code",
   "execution_count": 12,
   "id": "a94521f9-d95d-46b6-9ec1-e69b3c9c9711",
   "metadata": {
    "tags": []
   },
   "outputs": [
    {
     "name": "stdout",
     "output_type": "stream",
     "text": [
      "Mean (Annualised):\n"
     ]
    },
    {
     "data": {
      "text/plain": [
       "HFRIFWI Index     0.048295\n",
       "MLEIFCTR Index    0.036286\n",
       "MLEIFCTX Index    0.034605\n",
       "HDG US Equity     0.024812\n",
       "QAI US Equity     0.025653\n",
       "dtype: float64"
      ]
     },
     "metadata": {},
     "output_type": "display_data"
    },
    {
     "name": "stdout",
     "output_type": "stream",
     "text": [
      "Volatility (Annualised):\n"
     ]
    },
    {
     "data": {
      "text/plain": [
       "HFRIFWI Index     0.059476\n",
       "MLEIFCTR Index    0.056136\n",
       "MLEIFCTX Index    0.055980\n",
       "HDG US Equity     0.058408\n",
       "QAI US Equity     0.050009\n",
       "dtype: float64"
      ]
     },
     "metadata": {},
     "output_type": "display_data"
    },
    {
     "name": "stdout",
     "output_type": "stream",
     "text": [
      "Sharpe (Annualised):\n"
     ]
    },
    {
     "data": {
      "text/plain": [
       "HFRIFWI Index     0.812004\n",
       "MLEIFCTR Index    0.646398\n",
       "MLEIFCTX Index    0.618172\n",
       "HDG US Equity     0.424805\n",
       "QAI US Equity     0.512971\n",
       "dtype: float64"
      ]
     },
     "metadata": {},
     "output_type": "display_data"
    }
   ],
   "source": [
    "print('Mean (Annualised):')\n",
    "mean_returns_hf_series = proshares_analysis_data['hedge_fund_series'].mean()\n",
    "display(mean_returns_hf_series*12)\n",
    "print('Volatility (Annualised):')\n",
    "vol_returns_hf_series = proshares_analysis_data['hedge_fund_series'].std()\n",
    "display(vol_returns_hf_series*(12**0.5))\n",
    "print('Sharpe (Annualised):')\n",
    "display((12**0.5)*mean_returns_hf_series/vol_returns_hf_series)"
   ]
  },
  {
   "cell_type": "markdown",
   "id": "ec8d7c08",
   "metadata": {},
   "source": [
    "## 2.\n",
    "\n",
    "For the series in the \"hedge fund series\" tab, calculate the following statistics related to tail-risk.\n",
    "* Skewness\n",
    "* Excess Kurtosis (in excess of 3)\n",
    "* VaR (.05) - the fifth quantile of historic returns\n",
    "* CVaR (.05) - the mean of the returns at or below the fifth quantile\n",
    "* Maximum drawdown - include the dates of the max/min/recovery within the max drawdown period.\n",
    "\n",
    "There is no need to annualize any of these statistics."
   ]
  },
  {
   "cell_type": "code",
   "execution_count": 13,
   "id": "35aed235-ebc8-4cea-82c0-515bb90fdf1e",
   "metadata": {
    "tags": []
   },
   "outputs": [
    {
     "name": "stdout",
     "output_type": "stream",
     "text": [
      "Skewness\n"
     ]
    },
    {
     "data": {
      "text/plain": [
       "HFRIFWI Index    -0.963318\n",
       "MLEIFCTR Index   -0.265394\n",
       "MLEIFCTX Index   -0.251279\n",
       "HDG US Equity    -0.254201\n",
       "QAI US Equity    -0.434775\n",
       "dtype: float64"
      ]
     },
     "metadata": {},
     "output_type": "display_data"
    },
    {
     "name": "stdout",
     "output_type": "stream",
     "text": [
      "Kurtosis\n"
     ]
    },
    {
     "data": {
      "text/plain": [
       "HFRIFWI Index     5.763074\n",
       "MLEIFCTR Index    1.631580\n",
       "MLEIFCTX Index    1.595863\n",
       "HDG US Equity     1.759250\n",
       "QAI US Equity     1.605934\n",
       "dtype: float64"
      ]
     },
     "metadata": {},
     "output_type": "display_data"
    },
    {
     "name": "stdout",
     "output_type": "stream",
     "text": [
      "VaR(0.05)\n"
     ]
    },
    {
     "data": {
      "text/plain": [
       "HFRIFWI Index    -0.024293\n",
       "MLEIFCTR Index   -0.028189\n",
       "MLEIFCTX Index   -0.028095\n",
       "HDG US Equity    -0.030932\n",
       "QAI US Equity    -0.017895\n",
       "Name: 0.05, dtype: float64"
      ]
     },
     "metadata": {},
     "output_type": "display_data"
    },
    {
     "name": "stdout",
     "output_type": "stream",
     "text": [
      "CVaR(0.05)\n"
     ]
    },
    {
     "data": {
      "text/plain": [
       "HFRIFWI Index    -0.037478\n",
       "MLEIFCTR Index   -0.035857\n",
       "MLEIFCTX Index   -0.035816\n",
       "HDG US Equity    -0.037575\n",
       "QAI US Equity    -0.032695\n",
       "dtype: float64"
      ]
     },
     "metadata": {},
     "output_type": "display_data"
    },
    {
     "name": "stdout",
     "output_type": "stream",
     "text": [
      "Max Drawdown\n"
     ]
    },
    {
     "data": {
      "text/html": [
       "<div>\n",
       "<style scoped>\n",
       "    .dataframe tbody tr th:only-of-type {\n",
       "        vertical-align: middle;\n",
       "    }\n",
       "\n",
       "    .dataframe tbody tr th {\n",
       "        vertical-align: top;\n",
       "    }\n",
       "\n",
       "    .dataframe thead th {\n",
       "        text-align: right;\n",
       "    }\n",
       "</style>\n",
       "<table border=\"1\" class=\"dataframe\">\n",
       "  <thead>\n",
       "    <tr style=\"text-align: right;\">\n",
       "      <th></th>\n",
       "      <th>HFRIFWI Index</th>\n",
       "      <th>MLEIFCTR Index</th>\n",
       "      <th>MLEIFCTX Index</th>\n",
       "      <th>HDG US Equity</th>\n",
       "      <th>QAI US Equity</th>\n",
       "    </tr>\n",
       "  </thead>\n",
       "  <tbody>\n",
       "    <tr>\n",
       "      <th>Max Drawdown</th>\n",
       "      <td>-0.11804</td>\n",
       "      <td>-0.129428</td>\n",
       "      <td>-0.129539</td>\n",
       "      <td>-0.148219</td>\n",
       "      <td>-0.14541</td>\n",
       "    </tr>\n",
       "    <tr>\n",
       "      <th>Start Date</th>\n",
       "      <td>2019-12-31 00:00:00</td>\n",
       "      <td>2021-06-30 00:00:00</td>\n",
       "      <td>2021-06-30 00:00:00</td>\n",
       "      <td>2021-06-30 00:00:00</td>\n",
       "      <td>2021-06-30 00:00:00</td>\n",
       "    </tr>\n",
       "    <tr>\n",
       "      <th>Low Date</th>\n",
       "      <td>2020-03-31</td>\n",
       "      <td>2022-09-30</td>\n",
       "      <td>2022-09-30</td>\n",
       "      <td>2022-09-30</td>\n",
       "      <td>2022-09-30</td>\n",
       "    </tr>\n",
       "    <tr>\n",
       "      <th>Recovery Date</th>\n",
       "      <td>2020-06-30 00:00:00</td>\n",
       "      <td>2023-11-30 00:00:00</td>\n",
       "      <td>2024-01-31 00:00:00</td>\n",
       "      <td>2024-06-30 00:00:00</td>\n",
       "      <td>2024-01-31 00:00:00</td>\n",
       "    </tr>\n",
       "    <tr>\n",
       "      <th>Recovery Period</th>\n",
       "      <td>182</td>\n",
       "      <td>883</td>\n",
       "      <td>945</td>\n",
       "      <td>1096</td>\n",
       "      <td>945</td>\n",
       "    </tr>\n",
       "  </tbody>\n",
       "</table>\n",
       "</div>"
      ],
      "text/plain": [
       "                       HFRIFWI Index       MLEIFCTR Index  \\\n",
       "Max Drawdown                -0.11804            -0.129428   \n",
       "Start Date       2019-12-31 00:00:00  2021-06-30 00:00:00   \n",
       "Low Date                  2020-03-31           2022-09-30   \n",
       "Recovery Date    2020-06-30 00:00:00  2023-11-30 00:00:00   \n",
       "Recovery Period                  182                  883   \n",
       "\n",
       "                      MLEIFCTX Index        HDG US Equity        QAI US Equity  \n",
       "Max Drawdown               -0.129539            -0.148219             -0.14541  \n",
       "Start Date       2021-06-30 00:00:00  2021-06-30 00:00:00  2021-06-30 00:00:00  \n",
       "Low Date                  2022-09-30           2022-09-30           2022-09-30  \n",
       "Recovery Date    2024-01-31 00:00:00  2024-06-30 00:00:00  2024-01-31 00:00:00  \n",
       "Recovery Period                  945                 1096                  945  "
      ]
     },
     "execution_count": 13,
     "metadata": {},
     "output_type": "execute_result"
    }
   ],
   "source": [
    "def cvar(series):\n",
    "    s = series.loc[series <= series.quantile(0.05)]\n",
    "    return s.mean()\n",
    "\n",
    "def max_drawdown(series):\n",
    "    \n",
    "    cum_val = series.cumsum()\n",
    "    high_val = cum_val.cummax()\n",
    "    drawdown = cum_val - high_val\n",
    "    md = drawdown.min()\n",
    "    max_drawdown_idx = drawdown.idxmin()\n",
    "    high_val_at_max_drawdown = high_val[drawdown.idxmin()]\n",
    "    start_date = high_val[high_val == high_val_at_max_drawdown].index[0]\n",
    "    end_date = high_val[high_val == high_val_at_max_drawdown].index[-1]\n",
    "    recovery = end_date - start_date\n",
    "    return pd.Series(data=[md, start_date, max_drawdown_idx.date(), end_date, recovery.days], \n",
    "                     index=['Max Drawdown', 'Start Date', 'Low Date', 'Recovery Date', 'Recovery Period'])\n",
    "\n",
    "print('Skewness')\n",
    "hf_series_skewness = proshares_analysis_data['hedge_fund_series'].skew()\n",
    "display(hf_series_skewness)\n",
    "print('Kurtosis')\n",
    "hf_series_kurtosis = proshares_analysis_data['hedge_fund_series'].kurtosis()\n",
    "display(hf_series_kurtosis)\n",
    "print('VaR(0.05)')\n",
    "hf_series_var = proshares_analysis_data['hedge_fund_series'].quantile(0.05)\n",
    "display(hf_series_var)\n",
    "print('CVaR(0.05)')\n",
    "hf_series_cvar = proshares_analysis_data['hedge_fund_series'].apply(cvar)\n",
    "display(hf_series_cvar)\n",
    "print('Max Drawdown')\n",
    "proshares_analysis_data['hedge_fund_series'].apply(max_drawdown)"
   ]
  },
  {
   "cell_type": "markdown",
   "id": "9deb5072",
   "metadata": {},
   "source": [
    "## 3. \n",
    "\n",
    "For the series in the \"hedge fund series\" tab, run a regression of each against SPY (found in the \"merrill factors\" tab.) Include an intercept. Report the following regression-based statistics:\n",
    "* Market Beta\n",
    "* Treynor Ratio\n",
    "* Information ratio\n",
    "\n",
    "Annualize these three statistics as appropriate."
   ]
  },
  {
   "cell_type": "code",
   "execution_count": 14,
   "id": "3761e812-26d0-42a8-9331-92efb796d498",
   "metadata": {
    "tags": []
   },
   "outputs": [
    {
     "data": {
      "text/html": [
       "<div>\n",
       "<style scoped>\n",
       "    .dataframe tbody tr th:only-of-type {\n",
       "        vertical-align: middle;\n",
       "    }\n",
       "\n",
       "    .dataframe tbody tr th {\n",
       "        vertical-align: top;\n",
       "    }\n",
       "\n",
       "    .dataframe thead th {\n",
       "        text-align: right;\n",
       "    }\n",
       "</style>\n",
       "<table border=\"1\" class=\"dataframe\">\n",
       "  <thead>\n",
       "    <tr style=\"text-align: right;\">\n",
       "      <th></th>\n",
       "      <th>HFRIFWI Index</th>\n",
       "      <th>MLEIFCTR Index</th>\n",
       "      <th>MLEIFCTX Index</th>\n",
       "      <th>HDG US Equity</th>\n",
       "      <th>QAI US Equity</th>\n",
       "    </tr>\n",
       "  </thead>\n",
       "  <tbody>\n",
       "    <tr>\n",
       "      <th>Beta</th>\n",
       "      <td>0.346131</td>\n",
       "      <td>0.343383</td>\n",
       "      <td>0.342171</td>\n",
       "      <td>0.352053</td>\n",
       "      <td>0.298376</td>\n",
       "    </tr>\n",
       "    <tr>\n",
       "      <th>Treynor Ratio</th>\n",
       "      <td>0.011627</td>\n",
       "      <td>0.008806</td>\n",
       "      <td>0.008428</td>\n",
       "      <td>0.005873</td>\n",
       "      <td>0.007165</td>\n",
       "    </tr>\n",
       "    <tr>\n",
       "      <th>IR</th>\n",
       "      <td>-0.003305</td>\n",
       "      <td>-0.037344</td>\n",
       "      <td>-0.041684</td>\n",
       "      <td>-0.074946</td>\n",
       "      <td>-0.046755</td>\n",
       "    </tr>\n",
       "  </tbody>\n",
       "</table>\n",
       "</div>"
      ],
      "text/plain": [
       "               HFRIFWI Index  MLEIFCTR Index  MLEIFCTX Index  HDG US Equity  \\\n",
       "Beta                0.346131        0.343383        0.342171       0.352053   \n",
       "Treynor Ratio       0.011627        0.008806        0.008428       0.005873   \n",
       "IR                 -0.003305       -0.037344       -0.041684      -0.074946   \n",
       "\n",
       "               QAI US Equity  \n",
       "Beta                0.298376  \n",
       "Treynor Ratio       0.007165  \n",
       "IR                 -0.046755  "
      ]
     },
     "execution_count": 14,
     "metadata": {},
     "output_type": "execute_result"
    }
   ],
   "source": [
    "import statsmodels.api as sm\n",
    "import numpy as np\n",
    "\n",
    "def spy_regression(series):\n",
    "    spy_returns = proshares_analysis_data['merrill_factors']['SPY US Equity']\n",
    "    spy_returns = sm.add_constant(np.array(spy_returns))\n",
    "    lin_regression = sm.OLS(np.array(series), spy_returns)\n",
    "    results = lin_regression.fit()\n",
    "    market_beta = results.params[-1]\n",
    "    alpha  = results.params[0]\n",
    "    treynor_ratio = series.mean()/market_beta\n",
    "    information_ratio = alpha/(series - proshares_analysis_data['merrill_factors']['SPY US Equity']).std()\n",
    "    return pd.Series(data = [market_beta, treynor_ratio, information_ratio], index=['Beta', 'Treynor Ratio', 'IR'])\n",
    "\n",
    "proshares_analysis_data['hedge_fund_series'].apply(spy_regression)"
   ]
  },
  {
   "cell_type": "markdown",
   "id": "9dd139ed",
   "metadata": {},
   "source": [
    "## 4. \n",
    "\n",
    "Discuss the previous statistics, and what they tell us about...\n",
    "\n",
    "* the differences between SPY and the hedge-fund series?\n",
    "* which performs better between HDG and QAI.\n",
    "* whether HDG and the ML series capture the most notable properties of HFRI."
   ]
  },
  {
   "cell_type": "markdown",
   "id": "07ec3ca6-1338-49a9-a9af-5d9610d3e225",
   "metadata": {},
   "source": [
    "#### 1. the differences between SPY and the hedge-fund series?\n",
    "Information Ratio is negative for all hedgefunds meaning that they underperform the benchmark. \n",
    "#### 2. which performs better between HDG and QAI.\n",
    "In terms of both treynor_ratio and information_ratio QAI performs better. QAI gives better expected return over same market exposure(treynor ratio) and less negative alpha for std of unit residuals. \n",
    "#### 3. whether HDG and the ML series capture the most notable properties of HFRI.\n",
    "Most notable property of HRFI is that it has excess kurtosis over normal distribution but the other two exhibits negative excess kurtosis"
   ]
  },
  {
   "cell_type": "markdown",
   "id": "efc199e0",
   "metadata": {},
   "source": [
    "## 5. \n",
    "\n",
    "Report the correlation matrix for these assets.\n",
    "* Show the correlations as a heat map.\n",
    "* Which series have the highest and lowest correlations?"
   ]
  },
  {
   "cell_type": "code",
   "execution_count": 15,
   "id": "0b1461ad-215d-4b7f-925a-fc126f516f91",
   "metadata": {
    "tags": []
   },
   "outputs": [
    {
     "name": "stdout",
     "output_type": "stream",
     "text": [
      "Highest Correlation: HDG US Equity - MLEIFCTR Index/MLEIFCTX Index\n",
      "Lowest Correlation: QAI US Equity-HFRIFWI Index\n"
     ]
    },
    {
     "data": {
      "image/png": "[encoded data removed]",
      "text/plain": [
       "<Figure size 640x480 with 2 Axes>"
      ]
     },
     "metadata": {},
     "output_type": "display_data"
    }
   ],
   "source": [
    "import seaborn as sns\n",
    "%matplotlib inline\n",
    "\n",
    "sns.heatmap(proshares_analysis_data['hedge_fund_series'].corr(), annot=True)\n",
    "\n",
    "print('Highest Correlation: HDG US Equity - MLEIFCTR Index/MLEIFCTX Index')\n",
    "print('Lowest Correlation: QAI US Equity-HFRIFWI Index')"
   ]
  },
  {
   "cell_type": "markdown",
   "id": "f79554a0",
   "metadata": {},
   "source": [
    "## 6.\n",
    "\n",
    "Replicate HFRI with the six factors listed on the \"merrill factors\" tab. Include a constant, and run the unrestricted regression,\n",
    "\n",
    "$\\newcommand{\\hfri}{\\text{hfri}}$\n",
    "$\\newcommand{\\merr}{\\text{merr}}$\n",
    "\n",
    "$$\\begin{align}\n",
    "r^{\\hfri}_{t} &= \\alpha^{\\merr} + x_{t}^{\\merr}\\beta^{\\merr} + \\epsilon_{t}^{\\merr}\\\\[5pt]\n",
    "\\hat{r}^{\\hfri}_{t} &= \\hat{\\alpha}^{\\merr} + x_{t}^{\\merr}\\hat{\\beta}^{\\merr}\n",
    "\\end{align}$$\n",
    "\n",
    "Note that the second equation is just our notation for the fitted replication.\n",
    "\n",
    "a. Report the intercept and betas.\n",
    "b. Are the betas realistic position sizes, or do they require huge long-short positions?\n",
    "c. Report the R-squared.\n",
    "d. Report the volatility of $\\epsilon^{\\merr}$, the tracking error."
   ]
  },
  {
   "cell_type": "code",
   "execution_count": 16,
   "id": "1eae30a4-2b8c-4030-b448-481181bae545",
   "metadata": {
    "tags": []
   },
   "outputs": [
    {
     "data": {
      "text/html": [
       "<div>\n",
       "<style scoped>\n",
       "    .dataframe tbody tr th:only-of-type {\n",
       "        vertical-align: middle;\n",
       "    }\n",
       "\n",
       "    .dataframe tbody tr th {\n",
       "        vertical-align: top;\n",
       "    }\n",
       "\n",
       "    .dataframe thead th {\n",
       "        text-align: right;\n",
       "    }\n",
       "</style>\n",
       "<table border=\"1\" class=\"dataframe\">\n",
       "  <thead>\n",
       "    <tr style=\"text-align: right;\">\n",
       "      <th></th>\n",
       "      <th>HFRIFWI Index</th>\n",
       "    </tr>\n",
       "  </thead>\n",
       "  <tbody>\n",
       "    <tr>\n",
       "      <th>Intercept</th>\n",
       "      <td>0.001235</td>\n",
       "    </tr>\n",
       "    <tr>\n",
       "      <th>SPY US Equity Beta</th>\n",
       "      <td>0.036483</td>\n",
       "    </tr>\n",
       "    <tr>\n",
       "      <th>USGG3M Index Beta</th>\n",
       "      <td>0.146336</td>\n",
       "    </tr>\n",
       "    <tr>\n",
       "      <th>EEM US Equity Beta</th>\n",
       "      <td>0.081611</td>\n",
       "    </tr>\n",
       "    <tr>\n",
       "      <th>EFA US Equity Beta</th>\n",
       "      <td>0.084638</td>\n",
       "    </tr>\n",
       "    <tr>\n",
       "      <th>EUO US Equity Beta</th>\n",
       "      <td>0.028806</td>\n",
       "    </tr>\n",
       "    <tr>\n",
       "      <th>IWM US Equity Beta</th>\n",
       "      <td>0.145111</td>\n",
       "    </tr>\n",
       "    <tr>\n",
       "      <th>R-Square</th>\n",
       "      <td>0.839676</td>\n",
       "    </tr>\n",
       "    <tr>\n",
       "      <th>Adjusted R-Square</th>\n",
       "      <td>0.833306</td>\n",
       "    </tr>\n",
       "    <tr>\n",
       "      <th>Tracking Error</th>\n",
       "      <td>0.006853</td>\n",
       "    </tr>\n",
       "  </tbody>\n",
       "</table>\n",
       "</div>"
      ],
      "text/plain": [
       "                    HFRIFWI Index\n",
       "Intercept                0.001235\n",
       "SPY US Equity Beta       0.036483\n",
       "USGG3M Index Beta        0.146336\n",
       "EEM US Equity Beta       0.081611\n",
       "EFA US Equity Beta       0.084638\n",
       "EUO US Equity Beta       0.028806\n",
       "IWM US Equity Beta       0.145111\n",
       "R-Square                 0.839676\n",
       "Adjusted R-Square        0.833306\n",
       "Tracking Error           0.006853"
      ]
     },
     "execution_count": 16,
     "metadata": {},
     "output_type": "execute_result"
    }
   ],
   "source": [
    "def merrill_lin_reg(y):\n",
    "    X = np.array(proshares_analysis_data['merrill_factors'])\n",
    "    X = sm.add_constant(np.array(X))\n",
    "    reg = sm.OLS(np.array(y), X)\n",
    "    reg = reg.fit()\n",
    "    \n",
    "    result_index = ['Intercept', 'SPY US Equity Beta', 'USGG3M Index Beta', 'EEM US Equity Beta', 'EFA US Equity Beta', 'EUO US Equity Beta', 'IWM US Equity Beta']\n",
    "    \n",
    "    r_sq = reg.rsquared\n",
    "    r_sq_adj = reg.rsquared_adj\n",
    "    tracking_error = (np.array(y) - reg.fittedvalues).std()\n",
    "    \n",
    "    result_index.append('R-Square')\n",
    "    result_index.append('Adjusted R-Square')\n",
    "    result_index.append('Tracking Error')\n",
    " \n",
    "    result = list(reg.params)\n",
    "    result.append(r_sq)\n",
    "    result.append(r_sq_adj)\n",
    "    result.append(tracking_error)\n",
    "    \n",
    "    return pd.Series(data=result, index=result_index, name='HFRIFWI Index')\n",
    "    \n",
    "merrill_lin_reg(proshares_analysis_data['hedge_fund_series']['HFRIFWI Index']).to_frame()"
   ]
  },
  {
   "cell_type": "markdown",
   "id": "435ca261-9085-4c3e-a50e-c8f7bd4fd2a6",
   "metadata": {},
   "source": [
    "The betas are realistic position sizes and do not require huge long-short positions. All the funds are positively correlated with the underlying factors."
   ]
  },
  {
   "cell_type": "markdown",
   "id": "9760f909",
   "metadata": {},
   "source": [
    "## 7.\n",
    "\n",
    "Let's examine the replication out-of-sample (OOS).\n",
    "\n",
    "Starting with $t = 61$ month of the sample, do the following:\n",
    "\n",
    "* Use the previous 60 months of data to estimate the regression equation. \n",
    "This gives time-t estimates of the regression parameters, $\\tilde{\\alpha}^{\\merr}_{t}$ and $\\tilde{\\beta}^{\\merr}_{t}$.\n",
    "\n",
    "* Use the estimated regression parameters, along with the time-t regressor values, $x^{\\merr}_{t}$, calculate the time-t replication value that is, with respect to the regression estimate, built \"out-of-sample\" (OOS).\n",
    "\n",
    "$$\\hat{r}^{\\hfri}_{t} \\equiv \\tilde{\\alpha}^{\\merr} + (x_{t}^{\\merr})'\\tilde{\\beta}^{\\merr}$$\n",
    "\n",
    "* Step forward to $t = 62$, and now use $t = 2$ through $t = 61$ for the estimation. Re-run the steps above, and continue this process throughout the data series. Thus, we are running a rolling, 60-month regression for each point-in-time.\n",
    "\n",
    "How well does the out-of-sample replication perform with respect to the target?"
   ]
  },
  {
   "cell_type": "code",
   "execution_count": 17,
   "id": "09392f1b-fb7a-45a3-a7bf-a77cc7be5190",
   "metadata": {
    "tags": []
   },
   "outputs": [],
   "source": [
    "oos_returns = {}\n",
    "\n",
    "hf = 'HFRIFWI Index'\n",
    "    \n",
    "oos_returns[hf] = []\n",
    "\n",
    "for i in range(61, len(proshares_analysis_data['merrill_factors'])):\n",
    "\n",
    "    y = np.array(proshares_analysis_data['hedge_fund_series'][hf].iloc[i-1-60:i-1])\n",
    "    X = np.array(proshares_analysis_data['merrill_factors'].iloc[i-1-60:i-1])\n",
    "    X = sm.add_constant(X)\n",
    "    reg = sm.OLS(np.array(y), X)\n",
    "    reg = reg.fit()\n",
    "    intercept = reg.params[0]\n",
    "    coeff = reg.params[1:]\n",
    "    oos_returns[hf].append(np.array(proshares_analysis_data['merrill_factors'].iloc[i])@coeff.T + intercept)"
   ]
  },
  {
   "cell_type": "code",
   "execution_count": 18,
   "id": "e79e56f8-97b8-4f13-b776-6851e4a56ffc",
   "metadata": {
    "tags": []
   },
   "outputs": [
    {
     "data": {
      "image/png": "[encoded data removed]",
      "text/plain": [
       "<Figure size 640x480 with 1 Axes>"
      ]
     },
     "metadata": {},
     "output_type": "display_data"
    }
   ],
   "source": [
    "import matplotlib.pyplot as plt\n",
    "\n",
    "oos_returns[hf] = pd.Series(oos_returns[hf], index = proshares_analysis_data['hedge_fund_series'][hf].iloc[61:].index)\n",
    "plt.plot(oos_returns[hf], label='Predicted')\n",
    "plt.plot(proshares_analysis_data['hedge_fund_series'][hf].iloc[61:], label='Actual')\n",
    "error = proshares_analysis_data['hedge_fund_series'][hf].iloc[61:] - oos_returns[hf]\n",
    "plt.plot(error, label='Error')\n",
    "plt.grid()\n",
    "plt.legend()\n",
    "plt.title(f'Predicted vs Actual Returns ({hf})')\n",
    "plt.xlabel('Date')\n",
    "plt.ylabel('Return')\n",
    "plt.show()\n",
    "plt.close()"
   ]
  },
  {
   "cell_type": "markdown",
   "id": "2041c6a8",
   "metadata": {},
   "source": [
    "## 8.\n",
    "\n",
    "We estimated the replications using an intercept. Try the full-sample estimation, but this time without an intercept.\n",
    "\n",
    "$$\\begin{align}\n",
    "r^{\\hfri}_{t} &= \\alpha^{merr} + x_{t}^{\\merr}\\beta^{\\merr} + \\epsilon_{t}^{\\merr}\\\\[5pt]\n",
    "\\check{r}^{\\hfri}_{t} &= \\check{\\alpha}^{\\merr} + x_{t}^{\\merr}\\check{\\beta}^{\\merr}\n",
    "\\end{align}$$\n",
    "\n",
    "Report\n",
    "\n",
    "* the regression beta. How does it compare to the estimated beta with an intercept, $\\hat{\\beta}^{\\merr}$?\n",
    "\n",
    "* the mean of the fitted value, $\\check{r}^{\\hfri}_{t}$. How does it compare to the mean of the HFRI?\n",
    "\n",
    "* the correlations of the fitted values, $\\check{r}^{\\hfri}_{t}$ to the HFRI. How does the correlation compare to that of the fitted values with an intercept, $\\hat{r}^{\\hfri}_{t}$\n",
    "\n",
    "Do you think Merrill and ProShares fit their replicators with an intercept or not?"
   ]
  },
  {
   "cell_type": "code",
   "execution_count": 19,
   "id": "4c2abe95-062c-4fb3-9087-ab2be80ab9ba",
   "metadata": {},
   "outputs": [
    {
     "data": {
      "text/html": [
       "<div>\n",
       "<style scoped>\n",
       "    .dataframe tbody tr th:only-of-type {\n",
       "        vertical-align: middle;\n",
       "    }\n",
       "\n",
       "    .dataframe tbody tr th {\n",
       "        vertical-align: top;\n",
       "    }\n",
       "\n",
       "    .dataframe thead th {\n",
       "        text-align: right;\n",
       "    }\n",
       "</style>\n",
       "<table border=\"1\" class=\"dataframe\">\n",
       "  <thead>\n",
       "    <tr style=\"text-align: right;\">\n",
       "      <th></th>\n",
       "      <th>HFRIFWI Index</th>\n",
       "    </tr>\n",
       "  </thead>\n",
       "  <tbody>\n",
       "    <tr>\n",
       "      <th>SPY US Equity Beta</th>\n",
       "      <td>0.050667</td>\n",
       "    </tr>\n",
       "    <tr>\n",
       "      <th>USGG3M Index Beta</th>\n",
       "      <td>0.499336</td>\n",
       "    </tr>\n",
       "    <tr>\n",
       "      <th>EEM US Equity Beta</th>\n",
       "      <td>0.080866</td>\n",
       "    </tr>\n",
       "    <tr>\n",
       "      <th>EFA US Equity Beta</th>\n",
       "      <td>0.079146</td>\n",
       "    </tr>\n",
       "    <tr>\n",
       "      <th>EUO US Equity Beta</th>\n",
       "      <td>0.031373</td>\n",
       "    </tr>\n",
       "    <tr>\n",
       "      <th>IWM US Equity Beta</th>\n",
       "      <td>0.142651</td>\n",
       "    </tr>\n",
       "    <tr>\n",
       "      <th>R-Square</th>\n",
       "      <td>0.845162</td>\n",
       "    </tr>\n",
       "    <tr>\n",
       "      <th>Adjusted R-Square</th>\n",
       "      <td>0.839050</td>\n",
       "    </tr>\n",
       "    <tr>\n",
       "      <th>Tracking Error</th>\n",
       "      <td>0.006880</td>\n",
       "    </tr>\n",
       "  </tbody>\n",
       "</table>\n",
       "</div>"
      ],
      "text/plain": [
       "                    HFRIFWI Index\n",
       "SPY US Equity Beta       0.050667\n",
       "USGG3M Index Beta        0.499336\n",
       "EEM US Equity Beta       0.080866\n",
       "EFA US Equity Beta       0.079146\n",
       "EUO US Equity Beta       0.031373\n",
       "IWM US Equity Beta       0.142651\n",
       "R-Square                 0.845162\n",
       "Adjusted R-Square        0.839050\n",
       "Tracking Error           0.006880"
      ]
     },
     "execution_count": 19,
     "metadata": {},
     "output_type": "execute_result"
    }
   ],
   "source": [
    "def merrill_lin_reg(y):\n",
    "    X = np.array(proshares_analysis_data['merrill_factors'])\n",
    "    reg = sm.OLS(np.array(y), X)\n",
    "    reg = reg.fit()\n",
    "    \n",
    "    result_index = ['SPY US Equity Beta', 'USGG3M Index Beta', 'EEM US Equity Beta', 'EFA US Equity Beta', 'EUO US Equity Beta', 'IWM US Equity Beta']\n",
    "    \n",
    "    r_sq = reg.rsquared\n",
    "    r_sq_adj = reg.rsquared_adj\n",
    "    tracking_error = (np.array(y) - reg.fittedvalues).std()\n",
    "    \n",
    "    result_index.append('R-Square')\n",
    "    result_index.append('Adjusted R-Square')\n",
    "    result_index.append('Tracking Error')\n",
    " \n",
    "    result = list(reg.params)\n",
    "    result.append(r_sq)\n",
    "    result.append(r_sq_adj)\n",
    "    result.append(tracking_error)\n",
    "    \n",
    "    return pd.Series(data=result, index=result_index, name='HFRIFWI Index')\n",
    "    \n",
    "merrill_lin_reg(proshares_analysis_data['hedge_fund_series']['HFRIFWI Index']).to_frame()"
   ]
  },
  {
   "cell_type": "markdown",
   "id": "ae7ce7cd-11cd-4a4c-b988-e7eac05b0dfe",
   "metadata": {},
   "source": [
    "The regression without the intercept gives a better R-Square and thus performs better. Since the assets defined in the Merrill-Factors sheet defines our investible universe, the returns of each fund should be completely attributable to the factors themselves and any alpha should be a result of errors in the model. Thus, it makes sense that the regression without the intercept produces better results and we should be using the regression without the intercept for replication."
   ]
  },
  {
   "cell_type": "markdown",
   "id": "f7433d2f",
   "metadata": {},
   "source": [
    "***"
   ]
  }
 ],
 "metadata": {
  "hide_input": false,
  "kernelspec": {
   "display_name": "Python 3 (ipykernel)",
   "language": "python",
   "name": "python3"
  },
  "language_info": {
   "codemirror_mode": {
    "name": "ipython",
    "version": 3
   },
   "file_extension": ".py",
   "mimetype": "text/x-python",
   "name": "python",
   "nbconvert_exporter": "python",
   "pygments_lexer": "ipython3",
   "version": "3.11.5"
  }
 },
 "nbformat": 4,
 "nbformat_minor": 5
}

{
 "cells": [
  {
   "cell_type": "markdown",
   "id": "e3eee68c",
   "metadata": {},
   "source": [
    "# Homework 2\n",
    "\n",
    "## FINM 36700 - 2024\n",
    "\n",
    "### UChicago Financial Mathematics\n",
    "\n",
    "* Mark Hendricks\n",
    "* hendricks@uchicago.edu\n",
    "\n",
    "## HBS Case\n",
    "\n",
    "### *ProShares Hedge Replication ETF*"
   ]
  },
  {
   "cell_type": "markdown",
   "id": "3ed4b263",
   "metadata": {},
   "source": [
    "***"
   ]
  },
  {
   "cell_type": "markdown",
   "id": "32a1eb4b",
   "metadata": {},
   "source": [
    "# 1. The ProShares ETF Product\n",
    "\n",
    "**Section 1 is not graded**, and you do not need to submit your answers. But you are encouraged to think about them, and we will discuss them."
   ]
  },
  {
   "cell_type": "markdown",
   "id": "976c4cd6",
   "metadata": {},
   "source": [
    "## 1. Alternative ETFs\n",
    "\n",
    "Describe the two types of investments referenced by this term."
   ]
  },
  {
   "cell_type": "markdown",
   "id": "a350c607",
   "metadata": {},
   "source": [
    "## 2. Hedge Funds.\n",
    "\n",
    "a. Using just the information in the case, what are two measures by which hedge funds are an attractive investment?\n",
    "\n",
    "b. What are the main benefits of investing in hedge funds via an ETF instead of directly?"
   ]
  },
  {
   "cell_type": "markdown",
   "id": "f1c6d57d",
   "metadata": {},
   "source": [
    "## 3. The Benchmarks\n",
    "\n",
    "a. Explain as simply as possible how HFRI, MLFM, MLFM-ES, and HDG differ in their construction and purpose.\n",
    "\n",
    "b. How well does the Merrill Lynch Factor Model (MLFM) track the HFRI?\n",
    "\n",
    "c. In which factor does the MLFM have the largest loading? (See a slide in Exhibit 1.)\n",
    "\n",
    "d. What are the main concerns you have for how the MLFM attempts to replicate the HFRI?"
   ]
  },
  {
   "cell_type": "markdown",
   "id": "8247c669",
   "metadata": {},
   "source": [
    "## 4. The HDG Product\n",
    "\n",
    "a. What does ProShares ETF, HDG, attempt to track? Is the tracking error small?\n",
    "\n",
    "b. HDG is, by construction, delivering beta for investors. Isn't the point of hedge funds to generate alpha? Then why would HDG be valuable?\n",
    "\n",
    "c. The fees of a typical hedge-fund are 2% on total assets plus 20% of excess returns if positive. HDG's expense ratio is roughly 1% on total assets. What would their respective net Sharpe Ratios be, assuming both have a gross excess returns of 10% and volatility of 20%?"
   ]
  },
  {
   "cell_type": "markdown",
   "id": "ecd7e292",
   "metadata": {},
   "source": [
    "***"
   ]
  },
  {
   "cell_type": "markdown",
   "id": "fbbf79a1",
   "metadata": {},
   "source": [
    "# 2.  Analyzing the Data\n",
    "\n",
    "Use the data found on Canvas, in <b>'proshares analysis data.xlsx'</b>. \n",
    "\n",
    "It has monthly data on financial indexes and ETFs from `Aug 2011` through `Sep 2024`."
   ]
  },
  {
   "cell_type": "code",
   "execution_count": 1,
   "id": "a9f8f169-400e-4465-b9c1-1eeaceb3f188",
   "metadata": {
    "tags": []
   },
   "outputs": [],
   "source": [
    "import pandas as pd\n",
    "\n",
    "sheet_names = ['descriptions', 'hedge_fund_series', 'merrill_factors', 'other_data']\n",
    "proshares_analysis_data = {}\n",
    "\n",
    "for sheet in sheet_names:\n",
    "    proshares_analysis_data[sheet] = pd.read_excel(\n",
    "        r'/Users/arohansharma/Desktop/assignments/finm-portfolio-2024/data/proshares_analysis_data.xlsx', \n",
    "        header=0, index_col=0, sheet_name=sheet)"
   ]
  },
  {
   "cell_type": "markdown",
   "id": "22b7389c",
   "metadata": {},
   "source": [
    "## 1. \n",
    "\n",
    "For the series in the \"hedge fund series\" tab, report the following summary statistics:\n",
    "* mean\n",
    "* volatility\n",
    "* Sharpe ratio\n",
    "\n",
    "Annualize these statistics."
   ]
  },
  {
   "cell_type": "code",
   "execution_count": 2,
   "id": "a94521f9-d95d-46b6-9ec1-e69b3c9c9711",
   "metadata": {
    "tags": []
   },
   "outputs": [
    {
     "name": "stdout",
     "output_type": "stream",
     "text": [
      "Mean (Annualised):\n"
     ]
    },
    {
     "data": {
      "text/plain": [
       "HFRIFWI Index     0.048295\n",
       "MLEIFCTR Index    0.036286\n",
       "MLEIFCTX Index    0.034605\n",
       "HDG US Equity     0.024812\n",
       "QAI US Equity     0.025653\n",
       "dtype: float64"
      ]
     },
     "metadata": {},
     "output_type": "display_data"
    },
    {
     "name": "stdout",
     "output_type": "stream",
     "text": [
      "Volatility (Annualised):\n"
     ]
    },
    {
     "data": {
      "text/plain": [
       "HFRIFWI Index     0.059476\n",
       "MLEIFCTR Index    0.056136\n",
       "MLEIFCTX Index    0.055980\n",
       "HDG US Equity     0.058408\n",
       "QAI US Equity     0.050009\n",
       "dtype: float64"
      ]
     },
     "metadata": {},
     "output_type": "display_data"
    },
    {
     "name": "stdout",
     "output_type": "stream",
     "text": [
      "Sharpe (Annualised):\n"
     ]
    },
    {
     "data": {
      "text/plain": [
       "HFRIFWI Index     0.812004\n",
       "MLEIFCTR Index    0.646398\n",
       "MLEIFCTX Index    0.618172\n",
       "HDG US Equity     0.424805\n",
       "QAI US Equity     0.512971\n",
       "dtype: float64"
      ]
     },
     "metadata": {},
     "output_type": "display_data"
    }
   ],
   "source": [
    "print('Mean (Annualised):')\n",
    "mean_returns_hf_series = proshares_analysis_data['hedge_fund_series'].mean()\n",
    "display(mean_returns_hf_series*12)\n",
    "print('Volatility (Annualised):')\n",
    "vol_returns_hf_series = proshares_analysis_data['hedge_fund_series'].std()\n",
    "display(vol_returns_hf_series*(12**0.5))\n",
    "print('Sharpe (Annualised):')\n",
    "display((12**0.5)*mean_returns_hf_series/vol_returns_hf_series)"
   ]
  },
  {
   "cell_type": "markdown",
   "id": "ec8d7c08",
   "metadata": {},
   "source": [
    "## 2.\n",
    "\n",
    "For the series in the \"hedge fund series\" tab, calculate the following statistics related to tail-risk.\n",
    "* Skewness\n",
    "* Excess Kurtosis (in excess of 3)\n",
    "* VaR (.05) - the fifth quantile of historic returns\n",
    "* CVaR (.05) - the mean of the returns at or below the fifth quantile\n",
    "* Maximum drawdown - include the dates of the max/min/recovery within the max drawdown period.\n",
    "\n",
    "There is no need to annualize any of these statistics."
   ]
  },
  {
   "cell_type": "code",
   "execution_count": 3,
   "id": "35aed235-ebc8-4cea-82c0-515bb90fdf1e",
   "metadata": {
    "tags": []
   },
   "outputs": [
    {
     "name": "stdout",
     "output_type": "stream",
     "text": [
      "Skewness\n"
     ]
    },
    {
     "data": {
      "text/plain": [
       "HFRIFWI Index    -0.963318\n",
       "MLEIFCTR Index   -0.265394\n",
       "MLEIFCTX Index   -0.251279\n",
       "HDG US Equity    -0.254201\n",
       "QAI US Equity    -0.434775\n",
       "dtype: float64"
      ]
     },
     "metadata": {},
     "output_type": "display_data"
    },
    {
     "name": "stdout",
     "output_type": "stream",
     "text": [
      "Kurtosis\n"
     ]
    },
    {
     "data": {
      "text/plain": [
       "HFRIFWI Index     5.763074\n",
       "MLEIFCTR Index    1.631580\n",
       "MLEIFCTX Index    1.595863\n",
       "HDG US Equity     1.759250\n",
       "QAI US Equity     1.605934\n",
       "dtype: float64"
      ]
     },
     "metadata": {},
     "output_type": "display_data"
    },
    {
     "name": "stdout",
     "output_type": "stream",
     "text": [
      "VaR(0.05)\n"
     ]
    },
    {
     "data": {
      "text/plain": [
       "HFRIFWI Index    -0.024293\n",
       "MLEIFCTR Index   -0.028189\n",
       "MLEIFCTX Index   -0.028095\n",
       "HDG US Equity    -0.030932\n",
       "QAI US Equity    -0.017895\n",
       "Name: 0.05, dtype: float64"
      ]
     },
     "metadata": {},
     "output_type": "display_data"
    },
    {
     "name": "stdout",
     "output_type": "stream",
     "text": [
      "CVaR(0.05)\n"
     ]
    },
    {
     "data": {
      "text/plain": [
       "HFRIFWI Index    -0.037478\n",
       "MLEIFCTR Index   -0.035857\n",
       "MLEIFCTX Index   -0.035816\n",
       "HDG US Equity    -0.037575\n",
       "QAI US Equity    -0.032695\n",
       "dtype: float64"
      ]
     },
     "metadata": {},
     "output_type": "display_data"
    },
    {
     "name": "stdout",
     "output_type": "stream",
     "text": [
      "Max Drawdown\n"
     ]
    },
    {
     "data": {
      "text/html": [
       "<div>\n",
       "<style scoped>\n",
       "    .dataframe tbody tr th:only-of-type {\n",
       "        vertical-align: middle;\n",
       "    }\n",
       "\n",
       "    .dataframe tbody tr th {\n",
       "        vertical-align: top;\n",
       "    }\n",
       "\n",
       "    .dataframe thead th {\n",
       "        text-align: right;\n",
       "    }\n",
       "</style>\n",
       "<table border=\"1\" class=\"dataframe\">\n",
       "  <thead>\n",
       "    <tr style=\"text-align: right;\">\n",
       "      <th></th>\n",
       "      <th>HFRIFWI Index</th>\n",
       "      <th>MLEIFCTR Index</th>\n",
       "      <th>MLEIFCTX Index</th>\n",
       "      <th>HDG US Equity</th>\n",
       "      <th>QAI US Equity</th>\n",
       "    </tr>\n",
       "  </thead>\n",
       "  <tbody>\n",
       "    <tr>\n",
       "      <th>Max Drawdown</th>\n",
       "      <td>-0.11804</td>\n",
       "      <td>-0.129428</td>\n",
       "      <td>-0.129539</td>\n",
       "      <td>-0.148219</td>\n",
       "      <td>-0.14541</td>\n",
       "    </tr>\n",
       "    <tr>\n",
       "      <th>Start Date</th>\n",
       "      <td>2019-12-31 00:00:00</td>\n",
       "      <td>2021-06-30 00:00:00</td>\n",
       "      <td>2021-06-30 00:00:00</td>\n",
       "      <td>2021-06-30 00:00:00</td>\n",
       "      <td>2021-06-30 00:00:00</td>\n",
       "    </tr>\n",
       "    <tr>\n",
       "      <th>Low Date</th>\n",
       "      <td>2020-03-31</td>\n",
       "      <td>2022-09-30</td>\n",
       "      <td>2022-09-30</td>\n",
       "      <td>2022-09-30</td>\n",
       "      <td>2022-09-30</td>\n",
       "    </tr>\n",
       "    <tr>\n",
       "      <th>Recovery Date</th>\n",
       "      <td>2020-06-30 00:00:00</td>\n",
       "      <td>2023-11-30 00:00:00</td>\n",
       "      <td>2024-01-31 00:00:00</td>\n",
       "      <td>2024-06-30 00:00:00</td>\n",
       "      <td>2024-01-31 00:00:00</td>\n",
       "    </tr>\n",
       "    <tr>\n",
       "      <th>Recovery Period</th>\n",
       "      <td>182</td>\n",
       "      <td>883</td>\n",
       "      <td>945</td>\n",
       "      <td>1096</td>\n",
       "      <td>945</td>\n",
       "    </tr>\n",
       "  </tbody>\n",
       "</table>\n",
       "</div>"
      ],
      "text/plain": [
       "                       HFRIFWI Index       MLEIFCTR Index  \\\n",
       "Max Drawdown                -0.11804            -0.129428   \n",
       "Start Date       2019-12-31 00:00:00  2021-06-30 00:00:00   \n",
       "Low Date                  2020-03-31           2022-09-30   \n",
       "Recovery Date    2020-06-30 00:00:00  2023-11-30 00:00:00   \n",
       "Recovery Period                  182                  883   \n",
       "\n",
       "                      MLEIFCTX Index        HDG US Equity        QAI US Equity  \n",
       "Max Drawdown               -0.129539            -0.148219             -0.14541  \n",
       "Start Date       2021-06-30 00:00:00  2021-06-30 00:00:00  2021-06-30 00:00:00  \n",
       "Low Date                  2022-09-30           2022-09-30           2022-09-30  \n",
       "Recovery Date    2024-01-31 00:00:00  2024-06-30 00:00:00  2024-01-31 00:00:00  \n",
       "Recovery Period                  945                 1096                  945  "
      ]
     },
     "execution_count": 3,
     "metadata": {},
     "output_type": "execute_result"
    }
   ],
   "source": [
    "def cvar(series):\n",
    "    s = series.loc[series <= series.quantile(0.05)]\n",
    "    return s.mean()\n",
    "\n",
    "def max_drawdown(series):\n",
    "    \n",
    "    cum_val = series.cumsum()\n",
    "    high_val = cum_val.cummax()\n",
    "    drawdown = cum_val - high_val\n",
    "    md = drawdown.min()\n",
    "    max_drawdown_idx = drawdown.idxmin()\n",
    "    high_val_at_max_drawdown = high_val[drawdown.idxmin()]\n",
    "    start_date = high_val[high_val == high_val_at_max_drawdown].index[0]\n",
    "    end_date = high_val[high_val == high_val_at_max_drawdown].index[-1]\n",
    "    recovery = end_date - start_date\n",
    "    return pd.Series(data=[md, start_date, max_drawdown_idx.date(), end_date, recovery.days], \n",
    "                     index=['Max Drawdown', 'Start Date', 'Low Date', 'Recovery Date', 'Recovery Period'])\n",
    "\n",
    "print('Skewness')\n",
    "hf_series_skewness = proshares_analysis_data['hedge_fund_series'].skew()\n",
    "display(hf_series_skewness)\n",
    "print('Kurtosis')\n",
    "hf_series_kurtosis = proshares_analysis_data['hedge_fund_series'].kurtosis()\n",
    "display(hf_series_kurtosis)\n",
    "print('VaR(0.05)')\n",
    "hf_series_var = proshares_analysis_data['hedge_fund_series'].quantile(0.05)\n",
    "display(hf_series_var)\n",
    "print('CVaR(0.05)')\n",
    "hf_series_cvar = proshares_analysis_data['hedge_fund_series'].apply(cvar)\n",
    "display(hf_series_cvar)\n",
    "print('Max Drawdown')\n",
    "proshares_analysis_data['hedge_fund_series'].apply(max_drawdown)"
   ]
  },
  {
   "cell_type": "markdown",
   "id": "9deb5072",
   "metadata": {},
   "source": [
    "## 3. \n",
    "\n",
    "For the series in the \"hedge fund series\" tab, run a regression of each against SPY (found in the \"merrill factors\" tab.) Include an intercept. Report the following regression-based statistics:\n",
    "* Market Beta\n",
    "* Treynor Ratio\n",
    "* Information ratio\n",
    "\n",
    "Annualize these three statistics as appropriate."
   ]
  },
  {
   "cell_type": "code",
   "execution_count": 4,
   "id": "3761e812-26d0-42a8-9331-92efb796d498",
   "metadata": {
    "tags": []
   },
   "outputs": [
    {
     "data": {
      "text/html": [
       "<div>\n",
       "<style scoped>\n",
       "    .dataframe tbody tr th:only-of-type {\n",
       "        vertical-align: middle;\n",
       "    }\n",
       "\n",
       "    .dataframe tbody tr th {\n",
       "        vertical-align: top;\n",
       "    }\n",
       "\n",
       "    .dataframe thead th {\n",
       "        text-align: right;\n",
       "    }\n",
       "</style>\n",
       "<table border=\"1\" class=\"dataframe\">\n",
       "  <thead>\n",
       "    <tr style=\"text-align: right;\">\n",
       "      <th></th>\n",
       "      <th>HFRIFWI Index</th>\n",
       "      <th>MLEIFCTR Index</th>\n",
       "      <th>MLEIFCTX Index</th>\n",
       "      <th>HDG US Equity</th>\n",
       "      <th>QAI US Equity</th>\n",
       "    </tr>\n",
       "  </thead>\n",
       "  <tbody>\n",
       "    <tr>\n",
       "      <th>Beta</th>\n",
       "      <td>2.055524</td>\n",
       "      <td>2.289137</td>\n",
       "      <td>2.293768</td>\n",
       "      <td>2.167881</td>\n",
       "      <td>2.506305</td>\n",
       "    </tr>\n",
       "    <tr>\n",
       "      <th>Treynor Ratio</th>\n",
       "      <td>0.001958</td>\n",
       "      <td>0.001321</td>\n",
       "      <td>0.001257</td>\n",
       "      <td>0.000954</td>\n",
       "      <td>0.000853</td>\n",
       "    </tr>\n",
       "    <tr>\n",
       "      <th>IR</th>\n",
       "      <td>0.125745</td>\n",
       "      <td>0.174912</td>\n",
       "      <td>0.185384</td>\n",
       "      <td>0.261981</td>\n",
       "      <td>0.216451</td>\n",
       "    </tr>\n",
       "  </tbody>\n",
       "</table>\n",
       "</div>"
      ],
      "text/plain": [
       "               HFRIFWI Index  MLEIFCTR Index  MLEIFCTX Index  HDG US Equity  \\\n",
       "Beta                2.055524        2.289137        2.293768       2.167881   \n",
       "Treynor Ratio       0.001958        0.001321        0.001257       0.000954   \n",
       "IR                  0.125745        0.174912        0.185384       0.261981   \n",
       "\n",
       "               QAI US Equity  \n",
       "Beta                2.506305  \n",
       "Treynor Ratio       0.000853  \n",
       "IR                  0.216451  "
      ]
     },
     "execution_count": 4,
     "metadata": {},
     "output_type": "execute_result"
    }
   ],
   "source": [
    "import scipy as sc\n",
    "\n",
    "def spy_regression(series):\n",
    "    spy_returns = proshares_analysis_data['merrill_factors']['SPY US Equity']\n",
    "    lin_regression = sc.stats.linregress(series, spy_returns)\n",
    "    market_beta = lin_regression.slope\n",
    "    alpha  = lin_regression.intercept\n",
    "    treynor_ratio = series.mean()/market_beta\n",
    "    information_ratio = alpha/(series - spy_returns).std()\n",
    "    return pd.Series(data = [market_beta, treynor_ratio, information_ratio], index=['Beta', 'Treynor Ratio', 'IR'])\n",
    "\n",
    "proshares_analysis_data['hedge_fund_series'].apply(spy_regression)"
   ]
  },
  {
   "cell_type": "markdown",
   "id": "9dd139ed",
   "metadata": {},
   "source": [
    "## 4. \n",
    "\n",
    "Discuss the previous statistics, and what they tell us about...\n",
    "\n",
    "* the differences between SPY and the hedge-fund series?\n",
    "* which performs better between HDG and QAI.\n",
    "* whether HDG and the ML series capture the most notable properties of HFRI."
   ]
  },
  {
   "cell_type": "markdown",
   "id": "07ec3ca6-1338-49a9-a9af-5d9610d3e225",
   "metadata": {},
   "source": [
    "1. The Hedge Fund Series has very high market exposure indicated by the very high beta. The IRs aren't significant indicating that there is limited Alpha and most of the return of the fund is explained due to the long exposure to the markets.\n",
    "2. HDG has the slightly higher IR and performs better\n"
   ]
  },
  {
   "cell_type": "markdown",
   "id": "efc199e0",
   "metadata": {},
   "source": [
    "## 5. \n",
    "\n",
    "Report the correlation matrix for these assets.\n",
    "* Show the correlations as a heat map.\n",
    "* Which series have the highest and lowest correlations?"
   ]
  },
  {
   "cell_type": "code",
   "execution_count": 5,
   "id": "0b1461ad-215d-4b7f-925a-fc126f516f91",
   "metadata": {
    "tags": []
   },
   "outputs": [
    {
     "name": "stdout",
     "output_type": "stream",
     "text": [
      "Highest Correlation: HDG US Equity - MLEIFCTR Index/MLEIFCTX Index\n",
      "Lowest Correlation: QAI US Equity-HFRIFWI Index\n"
     ]
    },
    {
     "data": {
      "image/png": "[encoded data removed]",
      "text/plain": [
       "<Figure size 640x480 with 2 Axes>"
      ]
     },
     "metadata": {},
     "output_type": "display_data"
    }
   ],
   "source": [
    "import seaborn as sns\n",
    "%matplotlib inline\n",
    "\n",
    "sns.heatmap(proshares_analysis_data['hedge_fund_series'].corr(), annot=True)\n",
    "\n",
    "print('Highest Correlation: HDG US Equity - MLEIFCTR Index/MLEIFCTX Index')\n",
    "print('Lowest Correlation: QAI US Equity-HFRIFWI Index')"
   ]
  },
  {
   "cell_type": "markdown",
   "id": "f79554a0",
   "metadata": {},
   "source": [
    "## 6.\n",
    "\n",
    "Replicate HFRI with the six factors listed on the \"merrill factors\" tab. Include a constant, and run the unrestricted regression,\n",
    "\n",
    "$\\newcommand{\\hfri}{\\text{hfri}}$\n",
    "$\\newcommand{\\merr}{\\text{merr}}$\n",
    "\n",
    "$$\\begin{align}\n",
    "r^{\\hfri}_{t} &= \\alpha^{\\merr} + x_{t}^{\\merr}\\beta^{\\merr} + \\epsilon_{t}^{\\merr}\\\\[5pt]\n",
    "\\hat{r}^{\\hfri}_{t} &= \\hat{\\alpha}^{\\merr} + x_{t}^{\\merr}\\hat{\\beta}^{\\merr}\n",
    "\\end{align}$$\n",
    "\n",
    "Note that the second equation is just our notation for the fitted replication.\n",
    "\n",
    "a. Report the intercept and betas.\n",
    "b. Are the betas realistic position sizes, or do they require huge long-short positions?\n",
    "c. Report the R-squared.\n",
    "d. Report the volatility of $\\epsilon^{\\merr}$, the tracking error."
   ]
  },
  {
   "cell_type": "code",
   "execution_count": 6,
   "id": "1eae30a4-2b8c-4030-b448-481181bae545",
   "metadata": {
    "tags": []
   },
   "outputs": [
    {
     "data": {
      "text/html": [
       "<div>\n",
       "<style scoped>\n",
       "    .dataframe tbody tr th:only-of-type {\n",
       "        vertical-align: middle;\n",
       "    }\n",
       "\n",
       "    .dataframe tbody tr th {\n",
       "        vertical-align: top;\n",
       "    }\n",
       "\n",
       "    .dataframe thead th {\n",
       "        text-align: right;\n",
       "    }\n",
       "</style>\n",
       "<table border=\"1\" class=\"dataframe\">\n",
       "  <thead>\n",
       "    <tr style=\"text-align: right;\">\n",
       "      <th></th>\n",
       "      <th>HFRIFWI Index</th>\n",
       "      <th>MLEIFCTR Index</th>\n",
       "      <th>MLEIFCTX Index</th>\n",
       "      <th>HDG US Equity</th>\n",
       "      <th>QAI US Equity</th>\n",
       "    </tr>\n",
       "  </thead>\n",
       "  <tbody>\n",
       "    <tr>\n",
       "      <th>SPY US Equity Beta</th>\n",
       "      <td>0.036483</td>\n",
       "      <td>0.014802</td>\n",
       "      <td>0.013657</td>\n",
       "      <td>0.009848</td>\n",
       "      <td>0.128546</td>\n",
       "    </tr>\n",
       "    <tr>\n",
       "      <th>USGG3M Index Beta</th>\n",
       "      <td>0.146336</td>\n",
       "      <td>0.434300</td>\n",
       "      <td>0.391282</td>\n",
       "      <td>0.418932</td>\n",
       "      <td>0.834964</td>\n",
       "    </tr>\n",
       "    <tr>\n",
       "      <th>EEM US Equity Beta</th>\n",
       "      <td>0.081611</td>\n",
       "      <td>0.070013</td>\n",
       "      <td>0.070245</td>\n",
       "      <td>0.064648</td>\n",
       "      <td>0.065278</td>\n",
       "    </tr>\n",
       "    <tr>\n",
       "      <th>EFA US Equity Beta</th>\n",
       "      <td>0.084638</td>\n",
       "      <td>0.138988</td>\n",
       "      <td>0.139874</td>\n",
       "      <td>0.146611</td>\n",
       "      <td>0.068446</td>\n",
       "    </tr>\n",
       "    <tr>\n",
       "      <th>EUO US Equity Beta</th>\n",
       "      <td>0.028806</td>\n",
       "      <td>0.031632</td>\n",
       "      <td>0.031078</td>\n",
       "      <td>0.029400</td>\n",
       "      <td>-0.009239</td>\n",
       "    </tr>\n",
       "    <tr>\n",
       "      <th>IWM US Equity Beta</th>\n",
       "      <td>0.145111</td>\n",
       "      <td>0.128241</td>\n",
       "      <td>0.127174</td>\n",
       "      <td>0.137172</td>\n",
       "      <td>0.037507</td>\n",
       "    </tr>\n",
       "    <tr>\n",
       "      <th>Intercept</th>\n",
       "      <td>0.001235</td>\n",
       "      <td>0.000051</td>\n",
       "      <td>-0.000022</td>\n",
       "      <td>-0.000929</td>\n",
       "      <td>-0.001181</td>\n",
       "    </tr>\n",
       "    <tr>\n",
       "      <th>R-Square</th>\n",
       "      <td>0.839676</td>\n",
       "      <td>0.937317</td>\n",
       "      <td>0.936921</td>\n",
       "      <td>0.911191</td>\n",
       "      <td>0.836354</td>\n",
       "    </tr>\n",
       "    <tr>\n",
       "      <th>Tracking Error</th>\n",
       "      <td>0.006875</td>\n",
       "      <td>0.004057</td>\n",
       "      <td>0.004059</td>\n",
       "      <td>0.005025</td>\n",
       "      <td>0.005840</td>\n",
       "    </tr>\n",
       "  </tbody>\n",
       "</table>\n",
       "</div>"
      ],
      "text/plain": [
       "                    HFRIFWI Index  MLEIFCTR Index  MLEIFCTX Index  \\\n",
       "SPY US Equity Beta       0.036483        0.014802        0.013657   \n",
       "USGG3M Index Beta        0.146336        0.434300        0.391282   \n",
       "EEM US Equity Beta       0.081611        0.070013        0.070245   \n",
       "EFA US Equity Beta       0.084638        0.138988        0.139874   \n",
       "EUO US Equity Beta       0.028806        0.031632        0.031078   \n",
       "IWM US Equity Beta       0.145111        0.128241        0.127174   \n",
       "Intercept                0.001235        0.000051       -0.000022   \n",
       "R-Square                 0.839676        0.937317        0.936921   \n",
       "Tracking Error           0.006875        0.004057        0.004059   \n",
       "\n",
       "                    HDG US Equity  QAI US Equity  \n",
       "SPY US Equity Beta       0.009848       0.128546  \n",
       "USGG3M Index Beta        0.418932       0.834964  \n",
       "EEM US Equity Beta       0.064648       0.065278  \n",
       "EFA US Equity Beta       0.146611       0.068446  \n",
       "EUO US Equity Beta       0.029400      -0.009239  \n",
       "IWM US Equity Beta       0.137172       0.037507  \n",
       "Intercept               -0.000929      -0.001181  \n",
       "R-Square                 0.911191       0.836354  \n",
       "Tracking Error           0.005025       0.005840  "
      ]
     },
     "execution_count": 6,
     "metadata": {},
     "output_type": "execute_result"
    }
   ],
   "source": [
    "import numpy as np\n",
    "from sklearn.linear_model import LinearRegression\n",
    "\n",
    "def merrill_lin_reg(y):\n",
    "    X = np.array(proshares_analysis_data['merrill_factors'])\n",
    "    reg = LinearRegression().fit(X, y)\n",
    "    intercept = reg.intercept_\n",
    "    r_sq = reg.score(X, y)\n",
    "    tracking_error = (y - reg.predict(X)).std()\n",
    "    \n",
    "    result_index = list(proshares_analysis_data['merrill_factors'].keys() + ' Beta')\n",
    "    result_index.append('Intercept')\n",
    "    result_index.append('R-Square')\n",
    "    result_index.append('Tracking Error')\n",
    "    \n",
    "    result = list(reg.coef_)\n",
    "    result.append(intercept)\n",
    "    result.append(r_sq)\n",
    "    result.append(tracking_error)\n",
    "    \n",
    "    return pd.Series(data=result, index=result_index)\n",
    "\n",
    "proshares_analysis_data['hedge_fund_series'].apply(merrill_lin_reg)"
   ]
  },
  {
   "cell_type": "markdown",
   "id": "435ca261-9085-4c3e-a50e-c8f7bd4fd2a6",
   "metadata": {},
   "source": [
    "The betas are realistic position sizes and do not require huge long-short positions. All the funds are positively correlated with the underlying factors."
   ]
  },
  {
   "cell_type": "markdown",
   "id": "9760f909",
   "metadata": {},
   "source": [
    "## 7.\n",
    "\n",
    "Let's examine the replication out-of-sample (OOS).\n",
    "\n",
    "Starting with $t = 61$ month of the sample, do the following:\n",
    "\n",
    "* Use the previous 60 months of data to estimate the regression equation. \n",
    "This gives time-t estimates of the regression parameters, $\\tilde{\\alpha}^{\\merr}_{t}$ and $\\tilde{\\beta}^{\\merr}_{t}$.\n",
    "\n",
    "* Use the estimated regression parameters, along with the time-t regressor values, $x^{\\merr}_{t}$, calculate the time-t replication value that is, with respect to the regression estimate, built \"out-of-sample\" (OOS).\n",
    "\n",
    "$$\\hat{r}^{\\hfri}_{t} \\equiv \\tilde{\\alpha}^{\\merr} + (x_{t}^{\\merr})'\\tilde{\\beta}^{\\merr}$$\n",
    "\n",
    "* Step forward to $t = 62$, and now use $t = 2$ through $t = 61$ for the estimation. Re-run the steps above, and continue this process throughout the data series. Thus, we are running a rolling, 60-month regression for each point-in-time.\n",
    "\n",
    "How well does the out-of-sample replication perform with respect to the target?"
   ]
  },
  {
   "cell_type": "code",
   "execution_count": 13,
   "id": "09392f1b-fb7a-45a3-a7bf-a77cc7be5190",
   "metadata": {
    "tags": []
   },
   "outputs": [],
   "source": [
    "oos_returns = {}\n",
    "\n",
    "for hf in proshares_analysis_data['hedge_fund_series'].columns:\n",
    "    \n",
    "    oos_returns[hf] = []\n",
    "    \n",
    "    for i in range(61, len(proshares_analysis_data['merrill_factors'])):\n",
    "\n",
    "        y = np.array(proshares_analysis_data['hedge_fund_series'][hf].iloc[i-1-60:i-1])\n",
    "        X = np.array(proshares_analysis_data['merrill_factors'].iloc[i-1-60:i-1])\n",
    "        reg = LinearRegression().fit(X, y)\n",
    "        intercept = reg.intercept_\n",
    "        coeff = reg.coef_\n",
    "        oos_returns[hf].append(np.array(proshares_analysis_data['merrill_factors'])@coeff.T + intercept)"
   ]
  },
  {
   "cell_type": "markdown",
   "id": "2041c6a8",
   "metadata": {},
   "source": [
    "## 8.\n",
    "\n",
    "We estimated the replications using an intercept. Try the full-sample estimation, but this time without an intercept.\n",
    "\n",
    "$$\\begin{align}\n",
    "r^{\\hfri}_{t} &= \\alpha^{merr} + x_{t}^{\\merr}\\beta^{\\merr} + \\epsilon_{t}^{\\merr}\\\\[5pt]\n",
    "\\check{r}^{\\hfri}_{t} &= \\check{\\alpha}^{\\merr} + x_{t}^{\\merr}\\check{\\beta}^{\\merr}\n",
    "\\end{align}$$\n",
    "\n",
    "Report\n",
    "\n",
    "* the regression beta. How does it compare to the estimated beta with an intercept, $\\hat{\\beta}^{\\merr}$?\n",
    "\n",
    "* the mean of the fitted value, $\\check{r}^{\\hfri}_{t}$. How does it compare to the mean of the HFRI?\n",
    "\n",
    "* the correlations of the fitted values, $\\check{r}^{\\hfri}_{t}$ to the HFRI. How does the correlation compare to that of the fitted values with an intercept, $\\hat{r}^{\\hfri}_{t}$\n",
    "\n",
    "Do you think Merrill and ProShares fit their replicators with an intercept or not?"
   ]
  },
  {
   "cell_type": "code",
   "execution_count": null,
   "id": "4c2abe95-062c-4fb3-9087-ab2be80ab9ba",
   "metadata": {},
   "outputs": [],
   "source": []
  },
  {
   "cell_type": "markdown",
   "id": "f7433d2f",
   "metadata": {},
   "source": [
    "***"
   ]
  },
  {
   "cell_type": "markdown",
   "id": "4f5883f2",
   "metadata": {},
   "source": [
    "# 3.  Extensions\n",
    "<i>This section is not graded, and you do not need to submit it. Still, we may discuss it in class, in which case, you would be expected to know it."
   ]
  },
  {
   "cell_type": "markdown",
   "id": "2c042de1",
   "metadata": {},
   "source": [
    "## 1. \n",
    "\n",
    "Merrill constrains the weights of each asset in its replication regression of HFRI. Try constraining your weights by re-doing 2.6.\n",
    "\n",
    "* Use Non-Negative Least Squares (NNLS) instead of OLS.\n",
    "* Go further by using a Generalized Linear Model to put separate interval constraints on each beta, rather than simply constraining them to be non-negative.\n",
    "\n",
    "#### Hints\n",
    "* Try using LinearRegression in scikit-learn with the parameter `positive=True`. \n",
    "* Try using GLM in statsmodels."
   ]
  },
  {
   "cell_type": "markdown",
   "id": "02ee228d",
   "metadata": {},
   "source": [
    "## 2. \n",
    "\n",
    "Let's decompose a few other targets to see if they behave as their name suggests.\n",
    "\n",
    "* Regress HEFA on the same style factors used to decompose HFRI. Does HEFA appear to be a currency-hedged version of EFA?\n",
    "\n",
    "* Decompose TRVCI with the same style factors used to decompose HFRI. The TRVCI Index tracks venture capital funds--in terms of our styles, what best describes venture capital?\n",
    "\n",
    "* TAIL is an ETF that tracks SPY, but that also buys put options to protect against market downturns. Calculate the statistics in questions 2.1-2.3 for TAIL. Does it seem to behave as indicated by this description? That is, does it have high correlation to SPY while delivering lower tail risk?"
   ]
  },
  {
   "cell_type": "markdown",
   "id": "9c20b444",
   "metadata": {},
   "source": [
    "## 3. \n",
    "\n",
    "The ProShares case introduces Levered ETFs. ProShares made much of its name originally through levered, or \"geared\" ETFs.\n",
    "\n",
    "Explain conceptually why Levered ETFs may track their index well for a given day but diverge over time. How is this exacerbated in volatile periods like 2008?\n",
    "\n",
    "## 4.\n",
    "\n",
    "Analyze SPXU and UPRO relative to SPY.\n",
    "- SPXU is ProShares -3x SPX ETF.\n",
    "- UPRO is ProShres +3x SPX ETF.\n",
    "\n",
    "Questions:\n",
    "* Analyze them with the statistics from 2.1-2.3. \n",
    "\n",
    "* Do these two ETFs seem to live up to their names?\n",
    "\n",
    "* Plot the cumulative returns of both these ETFs along with SPY.\n",
    "\n",
    "* What do you conclude about levered ETFs?"
   ]
  },
  {
   "cell_type": "markdown",
   "id": "2acea83e",
   "metadata": {},
   "source": [
    "***"
   ]
  }
 ],
 "metadata": {
  "hide_input": false,
  "kernelspec": {
   "display_name": "Python 3 (ipykernel)",
   "language": "python",
   "name": "python3"
  },
  "language_info": {
   "codemirror_mode": {
    "name": "ipython",
    "version": 3
   },
   "file_extension": ".py",
   "mimetype": "text/x-python",
   "name": "python",
   "nbconvert_exporter": "python",
   "pygments_lexer": "ipython3",
   "version": "3.11.5"
  }
 },
 "nbformat": 4,
 "nbformat_minor": 5
}

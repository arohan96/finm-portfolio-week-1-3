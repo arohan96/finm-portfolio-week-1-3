{
 "cells": [
  {
   "cell_type": "markdown",
   "id": "e3eee68c",
   "metadata": {},
   "source": [
    "# Homework 2\n",
    "\n",
    "## FINM 36700 - 2024\n",
    "\n",
    "### UChicago Financial Mathematics\n",
    "\n",
    "* Mark Hendricks\n",
    "* hendricks@uchicago.edu\n",
    "\n",
    "## HBS Case\n",
    "\n",
    "### *ProShares Hedge Replication ETF*"
   ]
  },
  {
   "cell_type": "markdown",
   "id": "3ed4b263",
   "metadata": {},
   "source": [
    "***"
   ]
  },
  {
   "cell_type": "markdown",
   "id": "32a1eb4b",
   "metadata": {},
   "source": [
    "# 1. The ProShares ETF Product\n",
    "\n",
    "**Section 1 is not graded**, and you do not need to submit your answers. But you are encouraged to think about them, and we will discuss them."
   ]
  },
  {
   "cell_type": "markdown",
   "id": "976c4cd6",
   "metadata": {},
   "source": [
    "## 1. Alternative ETFs\n",
    "\n",
    "Describe the two types of investments referenced by this term."
   ]
  },
  {
   "cell_type": "markdown",
   "id": "a350c607",
   "metadata": {},
   "source": [
    "## 2. Hedge Funds.\n",
    "\n",
    "a. Using just the information in the case, what are two measures by which hedge funds are an attractive investment?\n",
    "\n",
    "b. What are the main benefits of investing in hedge funds via an ETF instead of directly?"
   ]
  },
  {
   "cell_type": "markdown",
   "id": "f1c6d57d",
   "metadata": {},
   "source": [
    "## 3. The Benchmarks\n",
    "\n",
    "a. Explain as simply as possible how HFRI, MLFM, MLFM-ES, and HDG differ in their construction and purpose.\n",
    "\n",
    "b. How well does the Merrill Lynch Factor Model (MLFM) track the HFRI?\n",
    "\n",
    "c. In which factor does the MLFM have the largest loading? (See a slide in Exhibit 1.)\n",
    "\n",
    "d. What are the main concerns you have for how the MLFM attempts to replicate the HFRI?"
   ]
  },
  {
   "cell_type": "markdown",
   "id": "8247c669",
   "metadata": {},
   "source": [
    "## 4. The HDG Product\n",
    "\n",
    "a. What does ProShares ETF, HDG, attempt to track? Is the tracking error small?\n",
    "\n",
    "b. HDG is, by construction, delivering beta for investors. Isn't the point of hedge funds to generate alpha? Then why would HDG be valuable?\n",
    "\n",
    "c. The fees of a typical hedge-fund are 2% on total assets plus 20% of excess returns if positive. HDG's expense ratio is roughly 1% on total assets. What would their respective net Sharpe Ratios be, assuming both have a gross excess returns of 10% and volatility of 20%?"
   ]
  },
  {
   "cell_type": "markdown",
   "id": "ecd7e292",
   "metadata": {},
   "source": [
    "***"
   ]
  },
  {
   "cell_type": "markdown",
   "id": "fbbf79a1",
   "metadata": {},
   "source": [
    "# 2.  Analyzing the Data\n",
    "\n",
    "Use the data found on Canvas, in <b>'proshares analysis data.xlsx'</b>. \n",
    "\n",
    "It has monthly data on financial indexes and ETFs from `Aug 2011` through `Sep 2024`."
   ]
  },
  {
   "cell_type": "markdown",
   "id": "22b7389c",
   "metadata": {},
   "source": [
    "## 1. \n",
    "\n",
    "For the series in the \"hedge fund series\" tab, report the following summary statistics:\n",
    "* mean\n",
    "* volatility\n",
    "* Sharpe ratio\n",
    "\n",
    "Annualize these statistics."
   ]
  },
  {
   "metadata": {
    "ExecuteTime": {
     "end_time": "2024-10-13T17:29:46.484711Z",
     "start_time": "2024-10-13T17:29:46.411727Z"
    }
   },
   "cell_type": "code",
   "source": [
    "import pandas as pd\n",
    "\n",
    "# load data\n",
    "df = pd.read_excel('proshares_analysis_data.xlsx', sheet_name='hedge_fund_series')\n",
    "df.rename(columns={df.columns[0]: 'date'}, inplace=True)\n",
    "df['date'] = pd.to_datetime(df['date'], format='%Y-%m-%d')\n",
    "df.set_index('date', inplace=True)\n",
    "\n",
    "# Summary statistics (annualized)\n",
    "df_mean = df.mean() * 12\n",
    "df_vol = df.std() * (12**0.5)\n",
    "sharpe_ratios = df_mean / df_vol\n",
    "\n",
    "# Format output\n",
    "summary_df = pd.DataFrame({\n",
    "    'Return': df_mean.values,\n",
    "    'Volatility': df_vol.values,\n",
    "    'Sharpe Ratio': sharpe_ratios.values\n",
    "})\n",
    "summary_df.set_index(df_mean.index, inplace=True)\n",
    "summary_df.sort_values(by='Sharpe Ratio', ascending=False, inplace=True)\n",
    "display(summary_df)"
   ],
   "id": "416750a7b5570f89",
   "outputs": [
    {
     "data": {
      "text/plain": [
       "                  Return  Volatility  Sharpe Ratio\n",
       "HFRIFWI Index   0.048295    0.059476      0.812004\n",
       "MLEIFCTR Index  0.036286    0.056136      0.646398\n",
       "MLEIFCTX Index  0.034605    0.055980      0.618172\n",
       "QAI US Equity   0.025653    0.050009      0.512971\n",
       "HDG US Equity   0.024812    0.058408      0.424805"
      ],
      "text/html": [
       "<div>\n",
       "<style scoped>\n",
       "    .dataframe tbody tr th:only-of-type {\n",
       "        vertical-align: middle;\n",
       "    }\n",
       "\n",
       "    .dataframe tbody tr th {\n",
       "        vertical-align: top;\n",
       "    }\n",
       "\n",
       "    .dataframe thead th {\n",
       "        text-align: right;\n",
       "    }\n",
       "</style>\n",
       "<table border=\"1\" class=\"dataframe\">\n",
       "  <thead>\n",
       "    <tr style=\"text-align: right;\">\n",
       "      <th></th>\n",
       "      <th>Return</th>\n",
       "      <th>Volatility</th>\n",
       "      <th>Sharpe Ratio</th>\n",
       "    </tr>\n",
       "  </thead>\n",
       "  <tbody>\n",
       "    <tr>\n",
       "      <th>HFRIFWI Index</th>\n",
       "      <td>0.048295</td>\n",
       "      <td>0.059476</td>\n",
       "      <td>0.812004</td>\n",
       "    </tr>\n",
       "    <tr>\n",
       "      <th>MLEIFCTR Index</th>\n",
       "      <td>0.036286</td>\n",
       "      <td>0.056136</td>\n",
       "      <td>0.646398</td>\n",
       "    </tr>\n",
       "    <tr>\n",
       "      <th>MLEIFCTX Index</th>\n",
       "      <td>0.034605</td>\n",
       "      <td>0.055980</td>\n",
       "      <td>0.618172</td>\n",
       "    </tr>\n",
       "    <tr>\n",
       "      <th>QAI US Equity</th>\n",
       "      <td>0.025653</td>\n",
       "      <td>0.050009</td>\n",
       "      <td>0.512971</td>\n",
       "    </tr>\n",
       "    <tr>\n",
       "      <th>HDG US Equity</th>\n",
       "      <td>0.024812</td>\n",
       "      <td>0.058408</td>\n",
       "      <td>0.424805</td>\n",
       "    </tr>\n",
       "  </tbody>\n",
       "</table>\n",
       "</div>"
      ]
     },
     "metadata": {},
     "output_type": "display_data"
    }
   ],
   "execution_count": 293
  },
  {
   "cell_type": "markdown",
   "id": "ec8d7c08",
   "metadata": {},
   "source": [
    "## 2.\n",
    "\n",
    "For the series in the \"hedge fund series\" tab, calculate the following statistics related to tail-risk.\n",
    "* Skewness\n",
    "* Excess Kurtosis (in excess of 3)\n",
    "* VaR (.05) - the fifth quantile of historic returns\n",
    "* CVaR (.05) - the mean of the returns at or below the fifth quantile\n",
    "* Maximum drawdown - include the dates of the max/min/recovery within the max drawdown period.\n",
    "\n",
    "There is no need to annualize any of these statistics."
   ]
  },
  {
   "metadata": {
    "ExecuteTime": {
     "end_time": "2024-10-13T17:29:46.515269Z",
     "start_time": "2024-10-13T17:29:46.509322Z"
    }
   },
   "cell_type": "code",
   "source": "import quantstats.stats as qs",
   "id": "4b901c8d10e59e11",
   "outputs": [],
   "execution_count": 294
  },
  {
   "metadata": {
    "ExecuteTime": {
     "end_time": "2024-10-13T17:29:47.230995Z",
     "start_time": "2024-10-13T17:29:46.785841Z"
    }
   },
   "cell_type": "code",
   "source": [
    "# Define function\n",
    "#import quantstats as qs\n",
    "test_df = df[df.index < '2024-01-01']\n",
    "def calc_return_metrics(df):\n",
    "    # general drawdown metrics\n",
    "    drawdown_df = qs.to_drawdown_series(df)\n",
    "    drawdown_details_df = qs.drawdown_details(drawdown_df)\n",
    "    max_drawdown_info = pd.DataFrame(columns = df.columns)\n",
    "    index_labels = ['start', 'valley', 'end', 'days', 'max drawdown', '99% max drawdown']\n",
    "    \n",
    "    for i in df.columns:\n",
    "        series_df = drawdown_details_df.filter(regex = i)\n",
    "        df_sorted = series_df.sort_values(by=series_df.columns[4], ascending=True, na_position='last')\n",
    "        max_dd_series = df_sorted.iloc[0]\n",
    "        max_dd_series.index = index_labels\n",
    "        max_drawdown_info[i] = max_dd_series\n",
    "\n",
    "    # format max drawdown df\n",
    "    max_drawdown_info = max_drawdown_info.T\n",
    "    clean_dd = max_drawdown_info[['max drawdown', 'start', 'valley', 'days']]\n",
    "    clean_dd.rename(columns={'max drawdown' : 'Max Drawdown', 'start': 'Peak', 'valley': 'Trough', 'days': 'Duration'}, inplace=True)\n",
    "    \n",
    "    for i in df.columns:\n",
    "        series_df = df.filter(regex = i)\n",
    "        \n",
    "    # assemble metrics\n",
    "    sum_df = pd.DataFrame({\n",
    "        'Skewness': qs.skew(df).values,\n",
    "        'Excess Kurtosis': qs.kurtosis(df).values - 3, # kurtosis in excess of 3\n",
    "        'VaR (0.05)': qs.var(df),\n",
    "        'cVaR (0.05)': qs.conditional_value_at_risk(df)\n",
    "    })\n",
    "    sum_df.set_index(df.columns, inplace=True)\n",
    "    \n",
    "    # add drawdown metrics\n",
    "    sum_df_full = pd.concat([sum_df, clean_dd], axis = 1)\n",
    "    return sum_df_full\n",
    "\n",
    "summary_df = calc_return_metrics(test_df).round(3)\n",
    "display(summary_df)\n",
    "    "
   ],
   "id": "abfa08ce7844f59f",
   "outputs": [
    {
     "name": "stderr",
     "output_type": "stream",
     "text": [
      "C:\\Users\\bwick\\AppData\\Local\\Temp\\ipykernel_22084\\3386745930.py:21: SettingWithCopyWarning: \n",
      "A value is trying to be set on a copy of a slice from a DataFrame\n",
      "\n",
      "See the caveats in the documentation: https://pandas.pydata.org/pandas-docs/stable/user_guide/indexing.html#returning-a-view-versus-a-copy\n",
      "  clean_dd.rename(columns={'max drawdown' : 'Max Drawdown', 'start': 'Peak', 'valley': 'Trough', 'days': 'Duration'}, inplace=True)\n"
     ]
    },
    {
     "data": {
      "text/plain": [
       "                Skewness  Excess Kurtosis  VaR (0.05)  cVaR (0.05)  \\\n",
       "HFRIFWI Index     -0.931            2.558      -0.025       -0.025   \n",
       "MLEIFCTR Index    -0.242           -1.467      -0.024       -0.024   \n",
       "MLEIFCTX Index    -0.229           -1.500      -0.024       -0.024   \n",
       "HDG US Equity     -0.236           -1.320      -0.026       -0.026   \n",
       "QAI US Equity     -0.391           -1.437      -0.022       -0.022   \n",
       "\n",
       "               Max Drawdown        Peak      Trough Duration  \n",
       "HFRIFWI Index    -11.547316  2020-01-31  2020-03-31    183.0  \n",
       "MLEIFCTR Index   -12.430154  2021-07-31  2022-09-30      884  \n",
       "MLEIFCTX Index   -12.438783  2021-07-31  2022-09-30    884.0  \n",
       "HDG US Equity    -14.072004  2021-07-31  2022-09-30    884.0  \n",
       "QAI US Equity    -13.771619  2021-07-31  2022-09-30    884.0  "
      ],
      "text/html": [
       "<div>\n",
       "<style scoped>\n",
       "    .dataframe tbody tr th:only-of-type {\n",
       "        vertical-align: middle;\n",
       "    }\n",
       "\n",
       "    .dataframe tbody tr th {\n",
       "        vertical-align: top;\n",
       "    }\n",
       "\n",
       "    .dataframe thead th {\n",
       "        text-align: right;\n",
       "    }\n",
       "</style>\n",
       "<table border=\"1\" class=\"dataframe\">\n",
       "  <thead>\n",
       "    <tr style=\"text-align: right;\">\n",
       "      <th></th>\n",
       "      <th>Skewness</th>\n",
       "      <th>Excess Kurtosis</th>\n",
       "      <th>VaR (0.05)</th>\n",
       "      <th>cVaR (0.05)</th>\n",
       "      <th>Max Drawdown</th>\n",
       "      <th>Peak</th>\n",
       "      <th>Trough</th>\n",
       "      <th>Duration</th>\n",
       "    </tr>\n",
       "  </thead>\n",
       "  <tbody>\n",
       "    <tr>\n",
       "      <th>HFRIFWI Index</th>\n",
       "      <td>-0.931</td>\n",
       "      <td>2.558</td>\n",
       "      <td>-0.025</td>\n",
       "      <td>-0.025</td>\n",
       "      <td>-11.547316</td>\n",
       "      <td>2020-01-31</td>\n",
       "      <td>2020-03-31</td>\n",
       "      <td>183.0</td>\n",
       "    </tr>\n",
       "    <tr>\n",
       "      <th>MLEIFCTR Index</th>\n",
       "      <td>-0.242</td>\n",
       "      <td>-1.467</td>\n",
       "      <td>-0.024</td>\n",
       "      <td>-0.024</td>\n",
       "      <td>-12.430154</td>\n",
       "      <td>2021-07-31</td>\n",
       "      <td>2022-09-30</td>\n",
       "      <td>884</td>\n",
       "    </tr>\n",
       "    <tr>\n",
       "      <th>MLEIFCTX Index</th>\n",
       "      <td>-0.229</td>\n",
       "      <td>-1.500</td>\n",
       "      <td>-0.024</td>\n",
       "      <td>-0.024</td>\n",
       "      <td>-12.438783</td>\n",
       "      <td>2021-07-31</td>\n",
       "      <td>2022-09-30</td>\n",
       "      <td>884.0</td>\n",
       "    </tr>\n",
       "    <tr>\n",
       "      <th>HDG US Equity</th>\n",
       "      <td>-0.236</td>\n",
       "      <td>-1.320</td>\n",
       "      <td>-0.026</td>\n",
       "      <td>-0.026</td>\n",
       "      <td>-14.072004</td>\n",
       "      <td>2021-07-31</td>\n",
       "      <td>2022-09-30</td>\n",
       "      <td>884.0</td>\n",
       "    </tr>\n",
       "    <tr>\n",
       "      <th>QAI US Equity</th>\n",
       "      <td>-0.391</td>\n",
       "      <td>-1.437</td>\n",
       "      <td>-0.022</td>\n",
       "      <td>-0.022</td>\n",
       "      <td>-13.771619</td>\n",
       "      <td>2021-07-31</td>\n",
       "      <td>2022-09-30</td>\n",
       "      <td>884.0</td>\n",
       "    </tr>\n",
       "  </tbody>\n",
       "</table>\n",
       "</div>"
      ]
     },
     "metadata": {},
     "output_type": "display_data"
    }
   ],
   "execution_count": 295
  },
  {
   "cell_type": "markdown",
   "id": "9deb5072",
   "metadata": {},
   "source": [
    "## 3. \n",
    "\n",
    "For the series in the \"hedge fund series\" tab, run a regression of each against SPY (found in the \"merrill factors\" tab.) Include an intercept. Report the following regression-based statistics:\n",
    "* Market Beta\n",
    "* Treynor Ratio\n",
    "* Information ratio\n",
    "\n",
    "Annualize these three statistics as appropriate."
   ]
  },
  {
   "metadata": {
    "ExecuteTime": {
     "end_time": "2024-10-13T17:29:47.390230Z",
     "start_time": "2024-10-13T17:29:47.274490Z"
    }
   },
   "cell_type": "code",
   "source": [
    "# Add SPY to df (hedge fund returns)\n",
    "# Import and clean SPY\n",
    "mer = pd.read_excel('proshares_analysis_data.xlsx', sheet_name='merrill_factors')\n",
    "mer.rename(columns={mer.columns[0]: 'date'}, inplace=True)\n",
    "mer['date'] = pd.to_datetime(mer['date'], format='%Y-%m-%d')\n",
    "mer.set_index('date', inplace=True)\n",
    "\n",
    "# Add to hedge fund returns\n",
    "reg_df = pd.concat([df, mer[['SPY US Equity']]], axis=1)\n",
    "reg_df.head()\n",
    "\n",
    "## Fit regressions\n",
    "# import module\n",
    "from sklearn.linear_model import LinearRegression\n",
    "\n",
    "# model set-up\n",
    "model = LinearRegression()\n",
    "coefs = []\n",
    "mean_rets = []\n",
    "intercepts = []\n",
    "sd_residuals = []\n",
    "model_fit = []\n",
    "\n",
    "# for loop to execute model\n",
    "for i in range(5):\n",
    "    X = reg_df[['SPY US Equity']]  # Independent variable\n",
    "    y = reg_df.iloc[:, i]  # Dependent variable (i-th column)\n",
    "\n",
    "    # Fit the model\n",
    "    model.fit(X, y)\n",
    "    tmp_y_pred = model.predict(X)\n",
    "    tmp_residuals = y - tmp_y_pred\n",
    "    tmp_residuals_std = tmp_residuals.std()\n",
    "    tmp_mean_return = y.mean(axis=0) \n",
    "    \n",
    "    # Store results\n",
    "    mean_rets.append(tmp_mean_return * 12) # annualized \n",
    "    coefs.append(model.coef_[0])\n",
    "    intercepts.append(model.intercept_ * 12) # annualized\n",
    "    sd_residuals.append(tmp_residuals_std * 12) # annualized\n",
    "    model_fit.append(model.score(X, y))\n",
    "    \n",
    "# Organize statistics\n",
    "data = pd.DataFrame({\n",
    "    'Mean Return': mean_rets, \n",
    "    'Market Beta': coefs,\n",
    "    'Alpha': intercepts,\n",
    "    'SD Residuals': sd_residuals,\n",
    "    'R-Squared': model_fit\n",
    "})\n",
    "mean_spy_ret = reg_df['SPY US Equity'].mean() * 12\n",
    "data.set_index(summary_df.index, inplace=True)\n",
    "data['Treynor Ratio'] = data['Mean Return'] / data['Market Beta']\n",
    "data['Information Ratio'] = data['Alpha'] / data['SD Residuals'] # in-class definition\n",
    "#data['Information Ratio'] = data['Mean Return'] - mean_spy_ret / data['SD Residuals'] # online defintion\n",
    "clean_data = data[['Alpha', 'Market Beta', 'R-Squared', 'Treynor Ratio', 'Information Ratio']]\n",
    "display(clean_data.round(4))"
   ],
   "id": "ad0045a874c0e21a",
   "outputs": [
    {
     "data": {
      "text/plain": [
       "                 Alpha  Market Beta  R-Squared  Treynor Ratio  \\\n",
       "HFRIFWI Index  -0.0011       0.3461     0.7115         0.1395   \n",
       "MLEIFCTR Index -0.0128       0.3434     0.7861         0.1057   \n",
       "MLEIFCTX Index -0.0143       0.3422     0.7849         0.1011   \n",
       "HDG US Equity  -0.0255       0.3521     0.7632         0.0705   \n",
       "QAI US Equity  -0.0170       0.2984     0.7478         0.0860   \n",
       "\n",
       "                Information Ratio  \n",
       "HFRIFWI Index             -0.0103  \n",
       "MLEIFCTR Index            -0.1419  \n",
       "MLEIFCTX Index            -0.1586  \n",
       "HDG US Equity             -0.2587  \n",
       "QAI US Equity             -0.1950  "
      ],
      "text/html": [
       "<div>\n",
       "<style scoped>\n",
       "    .dataframe tbody tr th:only-of-type {\n",
       "        vertical-align: middle;\n",
       "    }\n",
       "\n",
       "    .dataframe tbody tr th {\n",
       "        vertical-align: top;\n",
       "    }\n",
       "\n",
       "    .dataframe thead th {\n",
       "        text-align: right;\n",
       "    }\n",
       "</style>\n",
       "<table border=\"1\" class=\"dataframe\">\n",
       "  <thead>\n",
       "    <tr style=\"text-align: right;\">\n",
       "      <th></th>\n",
       "      <th>Alpha</th>\n",
       "      <th>Market Beta</th>\n",
       "      <th>R-Squared</th>\n",
       "      <th>Treynor Ratio</th>\n",
       "      <th>Information Ratio</th>\n",
       "    </tr>\n",
       "  </thead>\n",
       "  <tbody>\n",
       "    <tr>\n",
       "      <th>HFRIFWI Index</th>\n",
       "      <td>-0.0011</td>\n",
       "      <td>0.3461</td>\n",
       "      <td>0.7115</td>\n",
       "      <td>0.1395</td>\n",
       "      <td>-0.0103</td>\n",
       "    </tr>\n",
       "    <tr>\n",
       "      <th>MLEIFCTR Index</th>\n",
       "      <td>-0.0128</td>\n",
       "      <td>0.3434</td>\n",
       "      <td>0.7861</td>\n",
       "      <td>0.1057</td>\n",
       "      <td>-0.1419</td>\n",
       "    </tr>\n",
       "    <tr>\n",
       "      <th>MLEIFCTX Index</th>\n",
       "      <td>-0.0143</td>\n",
       "      <td>0.3422</td>\n",
       "      <td>0.7849</td>\n",
       "      <td>0.1011</td>\n",
       "      <td>-0.1586</td>\n",
       "    </tr>\n",
       "    <tr>\n",
       "      <th>HDG US Equity</th>\n",
       "      <td>-0.0255</td>\n",
       "      <td>0.3521</td>\n",
       "      <td>0.7632</td>\n",
       "      <td>0.0705</td>\n",
       "      <td>-0.2587</td>\n",
       "    </tr>\n",
       "    <tr>\n",
       "      <th>QAI US Equity</th>\n",
       "      <td>-0.0170</td>\n",
       "      <td>0.2984</td>\n",
       "      <td>0.7478</td>\n",
       "      <td>0.0860</td>\n",
       "      <td>-0.1950</td>\n",
       "    </tr>\n",
       "  </tbody>\n",
       "</table>\n",
       "</div>"
      ]
     },
     "metadata": {},
     "output_type": "display_data"
    }
   ],
   "execution_count": 296
  },
  {
   "cell_type": "markdown",
   "id": "9dd139ed",
   "metadata": {},
   "source": [
    "## 4. \n",
    "\n",
    "Discuss the previous statistics, and what they tell us about...\n",
    "\n",
    "* the differences between SPY and the hedge-fund series?\n",
    "* which performs better between HDG and QAI.\n",
    "* whether HDG and the ML series capture the most notable properties of HFRI."
   ]
  },
  {
   "cell_type": "markdown",
   "id": "efc199e0",
   "metadata": {},
   "source": [
    "## 5. \n",
    "\n",
    "Report the correlation matrix for these assets.\n",
    "* Show the correlations as a heat map.\n",
    "* Which series have the highest and lowest correlations?"
   ]
  },
  {
   "metadata": {
    "ExecuteTime": {
     "end_time": "2024-10-13T17:29:48.335300Z",
     "start_time": "2024-10-13T17:29:47.523680Z"
    }
   },
   "cell_type": "code",
   "source": [
    "import seaborn as sns\n",
    "import matplotlib.pyplot as plt\n",
    "corr_matrix = reg_df.corr()\n",
    "plt.figure(figsize=(8, 6))\n",
    "sns.heatmap(corr_matrix, annot=True, cmap='coolwarm', linewidths=0.5)\n",
    "plt.title('Correlation Matrix Heatmap')\n",
    "plt.show()\n",
    "\n",
    "# Highest, lowest correlations\n",
    "correlations = corr_matrix.stack().reset_index()\n",
    "correlations.columns = ['Variable 1', 'Variable 2', 'Correlation']\n",
    "correlations = correlations[correlations['Variable 1'] != correlations['Variable 2']] # exclude self-correlations of 1\n",
    "\n",
    "max_corr = correlations.loc[correlations['Correlation'].idxmax()]\n",
    "min_corr = correlations.loc[correlations['Correlation'].idxmin()]\n",
    "\n",
    "# Print the results\n",
    "print(f\"The highest correlation is between {max_corr['Variable 1']} and {max_corr['Variable 2']} with a correlation of {max_corr['Correlation']:.2f}.\")\n",
    "print(f\"The lowest correlation is between {min_corr['Variable 1']} and {min_corr['Variable 2']} with a correlation of {min_corr['Correlation']:.2f}.\")"
   ],
   "id": "e1f394b027ee0869",
   "outputs": [
    {
     "data": {
      "text/plain": [
       "<Figure size 800x600 with 2 Axes>"
      ],
      "image/png": "[encoded data removed]"
     },
     "metadata": {},
     "output_type": "display_data"
    },
    {
     "name": "stdout",
     "output_type": "stream",
     "text": [
      "The highest correlation is between MLEIFCTR Index and MLEIFCTX Index with a correlation of 1.00.\n",
      "The lowest correlation is between HFRIFWI Index and SPY US Equity with a correlation of 0.84.\n"
     ]
    }
   ],
   "execution_count": 297
  },
  {
   "cell_type": "markdown",
   "id": "f79554a0",
   "metadata": {},
   "source": [
    "## 6.\n",
    "\n",
    "Replicate HFRI with the six factors listed on the \"merrill factors\" tab. Include a constant, and run the unrestricted regression,\n",
    "\n",
    "$\\newcommand{\\hfri}{\\text{hfri}}$\n",
    "$\\newcommand{\\merr}{\\text{merr}}$\n",
    "\n",
    "$$\\begin{align}\n",
    "r^{\\hfri}_{t} &= \\alpha^{\\merr} + x_{t}^{\\merr}\\beta^{\\merr} + \\epsilon_{t}^{\\merr}\\\\[5pt]\n",
    "\\hat{r}^{\\hfri}_{t} &= \\hat{\\alpha}^{\\merr} + x_{t}^{\\merr}\\hat{\\beta}^{\\merr}\n",
    "\\end{align}$$\n",
    "\n",
    "Note that the second equation is just our notation for the fitted replication.\n",
    "\n",
    "a. Report the intercept and betas.\n",
    "b. Are the betas realistic position sizes, or do they require huge long-short positions?\n",
    "c. Report the R-squared.\n",
    "d. Report the volatility of $\\epsilon^{\\merr}$, the tracking error."
   ]
  },
  {
   "metadata": {
    "ExecuteTime": {
     "end_time": "2024-10-13T17:29:48.471907Z",
     "start_time": "2024-10-13T17:29:48.450258Z"
    }
   },
   "cell_type": "code",
   "source": [
    "# Create data\n",
    "hfri_rep = pd.concat([mer, df[['HFRIFWI Index']]], axis=1)\n",
    "\n",
    "# Fit model\n",
    "model = LinearRegression()\n",
    "covariates = hfri_rep.drop(columns=['HFRIFWI Index'])\n",
    "model.fit(covariates, hfri_rep[['HFRIFWI Index']])\n",
    "\n",
    "# Summarize model output\n",
    "coefficients = pd.DataFrame({\n",
    "    'Feature': covariates.columns,\n",
    "    'Coefficient': model.coef_[0]\n",
    "})\n",
    "print(coefficients)\n",
    "print(\"Intercept:\", model.intercept_)\n",
    "r_squared = model.score(covariates, hfri_rep[['HFRIFWI Index']])\n",
    "print(\"R-squared:\", round(r_squared, 3))\n"
   ],
   "id": "4394d6379f026bed",
   "outputs": [
    {
     "name": "stdout",
     "output_type": "stream",
     "text": [
      "         Feature  Coefficient\n",
      "0  SPY US Equity     0.036483\n",
      "1   USGG3M Index     0.146336\n",
      "2  EEM US Equity     0.081611\n",
      "3  EFA US Equity     0.084638\n",
      "4  EUO US Equity     0.028806\n",
      "5  IWM US Equity     0.145111\n",
      "Intercept: [0.00123534]\n",
      "R-squared: 0.84\n"
     ]
    }
   ],
   "execution_count": 298
  },
  {
   "cell_type": "markdown",
   "id": "9760f909",
   "metadata": {},
   "source": [
    "## 7.\n",
    "\n",
    "Let's examine the replication out-of-sample (OOS).\n",
    "\n",
    "Starting with $t = 61$ month of the sample, do the following:\n",
    "\n",
    "* Use the previous 60 months of data to estimate the regression equation. \n",
    "This gives time-t estimates of the regression parameters, $\\tilde{\\alpha}^{\\merr}_{t}$ and $\\tilde{\\beta}^{\\merr}_{t}$.\n",
    "\n",
    "* Use the estimated regression parameters, along with the time-t regressor values, $x^{\\merr}_{t}$, calculate the time-t replication value that is, with respect to the regression estimate, built \"out-of-sample\" (OOS).\n",
    "\n",
    "$$\\hat{r}^{\\hfri}_{t} \\equiv \\tilde{\\alpha}^{\\merr} + (x_{t}^{\\merr})'\\tilde{\\beta}^{\\merr}$$\n",
    "\n",
    "* Step forward to $t = 62$, and now use $t = 2$ through $t = 61$ for the estimation. Re-run the steps above, and continue this process throughout the data series. Thus, we are running a rolling, 60-month regression for each point-in-time.\n",
    "\n",
    "How well does the out-of-sample replication perform with respect to the target?"
   ]
  },
  {
   "metadata": {
    "ExecuteTime": {
     "end_time": "2024-10-13T17:29:49.129674Z",
     "start_time": "2024-10-13T17:29:48.693820Z"
    }
   },
   "cell_type": "code",
   "source": [
    "# Code similar to 2023 assignment, more efficient than what I could come up with\n",
    "from collections import defaultdict\n",
    "\n",
    "hfri = hfri_rep[[\"HFRIFWI Index\"]].copy()\n",
    "\n",
    "summary = defaultdict(list)\n",
    "\n",
    "for idx in range(60, len(hfri), 1):\n",
    "    # Variables for first 60 months, rolling window\n",
    "    X = hfri_rep.drop(columns=['HFRIFWI Index']).iloc[idx - 60 : idx].copy()\n",
    "    y = hfri.iloc[idx - 60 : idx, 0].copy()\n",
    "\n",
    "    oos_y = hfri.iloc[idx, 0]\n",
    "    oos_X = hfri_rep.drop(columns=['HFRIFWI Index']).iloc[idx, :].copy()\n",
    "\n",
    "    # Calculate the regression coefficients\n",
    "    model = LinearRegression()\n",
    "    model.fit(X, y)\n",
    "\n",
    "    # \n",
    "    for jdx, coeff in enumerate(model.coef_):\n",
    "        summary[f'coef_{jdx}'].append(coeff)\n",
    "\n",
    "    # Get predicted y by multiplying the coefficients by the X values and adding the intercept\n",
    "    y_pred = model.intercept_ + (model.coef_ @ oos_X)\n",
    "\n",
    "    summary[\"Replicated\"].append(y_pred)\n",
    "    summary[\"Actual\"].append(oos_y)\n",
    "\n",
    "summary = pd.DataFrame(summary, index=hfri.index[60:])\n",
    "summary.columns.values[:6] = hfri_rep.columns[:6]\n",
    "summary.head()"
   ],
   "id": "ac184f25d1793411",
   "outputs": [
    {
     "data": {
      "text/plain": [
       "            SPY US Equity  USGG3M Index  EEM US Equity  EFA US Equity  \\\n",
       "date                                                                    \n",
       "2016-08-31       0.088884     10.176949       0.049402       0.120781   \n",
       "2016-09-30       0.094174      8.444434       0.050045       0.111930   \n",
       "2016-10-31       0.096728      8.585762       0.044211       0.114455   \n",
       "2016-11-30       0.108391      4.813249       0.059997       0.092413   \n",
       "2016-12-31       0.107338      0.326931       0.066092       0.088911   \n",
       "\n",
       "            EUO US Equity  IWM US Equity  Replicated    Actual  \n",
       "date                                                            \n",
       "2016-08-31       0.023245       0.073649    0.004966  0.004274  \n",
       "2016-09-30       0.018838       0.069655    0.005001  0.006468  \n",
       "2016-10-31       0.021629       0.065134   -0.004449 -0.005947  \n",
       "2016-11-30       0.019464       0.076252    0.011651  0.007660  \n",
       "2016-12-31       0.021986       0.071585    0.007650  0.010063  "
      ],
      "text/html": [
       "<div>\n",
       "<style scoped>\n",
       "    .dataframe tbody tr th:only-of-type {\n",
       "        vertical-align: middle;\n",
       "    }\n",
       "\n",
       "    .dataframe tbody tr th {\n",
       "        vertical-align: top;\n",
       "    }\n",
       "\n",
       "    .dataframe thead th {\n",
       "        text-align: right;\n",
       "    }\n",
       "</style>\n",
       "<table border=\"1\" class=\"dataframe\">\n",
       "  <thead>\n",
       "    <tr style=\"text-align: right;\">\n",
       "      <th></th>\n",
       "      <th>SPY US Equity</th>\n",
       "      <th>USGG3M Index</th>\n",
       "      <th>EEM US Equity</th>\n",
       "      <th>EFA US Equity</th>\n",
       "      <th>EUO US Equity</th>\n",
       "      <th>IWM US Equity</th>\n",
       "      <th>Replicated</th>\n",
       "      <th>Actual</th>\n",
       "    </tr>\n",
       "    <tr>\n",
       "      <th>date</th>\n",
       "      <th></th>\n",
       "      <th></th>\n",
       "      <th></th>\n",
       "      <th></th>\n",
       "      <th></th>\n",
       "      <th></th>\n",
       "      <th></th>\n",
       "      <th></th>\n",
       "    </tr>\n",
       "  </thead>\n",
       "  <tbody>\n",
       "    <tr>\n",
       "      <th>2016-08-31</th>\n",
       "      <td>0.088884</td>\n",
       "      <td>10.176949</td>\n",
       "      <td>0.049402</td>\n",
       "      <td>0.120781</td>\n",
       "      <td>0.023245</td>\n",
       "      <td>0.073649</td>\n",
       "      <td>0.004966</td>\n",
       "      <td>0.004274</td>\n",
       "    </tr>\n",
       "    <tr>\n",
       "      <th>2016-09-30</th>\n",
       "      <td>0.094174</td>\n",
       "      <td>8.444434</td>\n",
       "      <td>0.050045</td>\n",
       "      <td>0.111930</td>\n",
       "      <td>0.018838</td>\n",
       "      <td>0.069655</td>\n",
       "      <td>0.005001</td>\n",
       "      <td>0.006468</td>\n",
       "    </tr>\n",
       "    <tr>\n",
       "      <th>2016-10-31</th>\n",
       "      <td>0.096728</td>\n",
       "      <td>8.585762</td>\n",
       "      <td>0.044211</td>\n",
       "      <td>0.114455</td>\n",
       "      <td>0.021629</td>\n",
       "      <td>0.065134</td>\n",
       "      <td>-0.004449</td>\n",
       "      <td>-0.005947</td>\n",
       "    </tr>\n",
       "    <tr>\n",
       "      <th>2016-11-30</th>\n",
       "      <td>0.108391</td>\n",
       "      <td>4.813249</td>\n",
       "      <td>0.059997</td>\n",
       "      <td>0.092413</td>\n",
       "      <td>0.019464</td>\n",
       "      <td>0.076252</td>\n",
       "      <td>0.011651</td>\n",
       "      <td>0.007660</td>\n",
       "    </tr>\n",
       "    <tr>\n",
       "      <th>2016-12-31</th>\n",
       "      <td>0.107338</td>\n",
       "      <td>0.326931</td>\n",
       "      <td>0.066092</td>\n",
       "      <td>0.088911</td>\n",
       "      <td>0.021986</td>\n",
       "      <td>0.071585</td>\n",
       "      <td>0.007650</td>\n",
       "      <td>0.010063</td>\n",
       "    </tr>\n",
       "  </tbody>\n",
       "</table>\n",
       "</div>"
      ]
     },
     "execution_count": 299,
     "metadata": {},
     "output_type": "execute_result"
    }
   ],
   "execution_count": 299
  },
  {
   "metadata": {
    "ExecuteTime": {
     "end_time": "2024-10-13T17:29:49.811011Z",
     "start_time": "2024-10-13T17:29:49.177855Z"
    }
   },
   "cell_type": "code",
   "source": [
    "# Visualize results\n",
    "# Calculate OOS R-Squared\n",
    "oos_rsquared = (\n",
    "        1 - (summary[\"Actual\"] - summary[\"Replicated\"]).var() / summary[\"Actual\"].var()\n",
    ")\n",
    "print(f\"OOS-R-Squared: {oos_rsquared:.2%}\")\n",
    "print(f\"An OOS-R-squared of {oos_rsquared:.2%} means this model was very good, especially for a linear model with highly-correlated inputs.\")\n",
    "\n",
    "fig, ax = plt.subplots(figsize=(8, 5))\n",
    "\n",
    "ax.plot(summary.index, summary[\"Actual\"], label=\"Actual\")\n",
    "ax.plot(summary.index, summary[\"Replicated\"], label=\"Replicated\")\n",
    "ax.grid(True)\n",
    "ax.legend()\n",
    "\n",
    "# Make ticklabels every 6 months and label them as %yyy-%mm\n",
    "ax.set_xticks(summary.index[::6])\n",
    "ax.set_xticklabels(\n",
    "    [f\"{i.year}-{i.month:02d}\" for i in summary.index[::6]],\n",
    "    rotation=45,\n",
    "    horizontalalignment=\"center\",\n",
    ")\n",
    "\n",
    "ax.set_title(\"HFRI Replication\")\n",
    "fig.tight_layout()"
   ],
   "id": "a015a772ee8cf9a0",
   "outputs": [
    {
     "name": "stdout",
     "output_type": "stream",
     "text": [
      "OOS-R-Squared: 80.43%\n",
      "An OOS-R-squared of 80.43% means this model was very good, especially for a linear model with highly-correlated inputs.\n"
     ]
    },
    {
     "data": {
      "text/plain": [
       "<Figure size 800x500 with 1 Axes>"
      ],
      "image/png": "[encoded data removed]"
     },
     "metadata": {},
     "output_type": "display_data"
    }
   ],
   "execution_count": 300
  },
  {
   "cell_type": "markdown",
   "id": "2041c6a8",
   "metadata": {},
   "source": [
    "## 8.\n",
    "\n",
    "We estimated the replications using an intercept. Try the full-sample estimation, but this time without an intercept.\n",
    "\n",
    "$$\\begin{align}\n",
    "r^{\\hfri}_{t} &= \\alpha^{merr} + x_{t}^{\\merr}\\beta^{\\merr} + \\epsilon_{t}^{\\merr}\\\\[5pt]\n",
    "\\check{r}^{\\hfri}_{t} &= \\check{\\alpha}^{\\merr} + x_{t}^{\\merr}\\check{\\beta}^{\\merr}\n",
    "\\end{align}$$\n",
    "\n",
    "Report\n",
    "\n",
    "* the regression beta. How does it compare to the estimated beta with an intercept, $\\hat{\\beta}^{\\merr}$?\n",
    "\n",
    "* the mean of the fitted value, $\\check{r}^{\\hfri}_{t}$. How does it compare to the mean of the HFRI?\n",
    "\n",
    "* the correlations of the fitted values, $\\check{r}^{\\hfri}_{t}$ to the HFRI. How does the correlation compare to that of the fitted values with an intercept, $\\hat{r}^{\\hfri}_{t}$\n",
    "\n",
    "Do you think Merrill and ProShares fit their replicators with an intercept or not?"
   ]
  },
  {
   "metadata": {
    "ExecuteTime": {
     "end_time": "2024-10-13T17:29:49.910937Z",
     "start_time": "2024-10-13T17:29:49.871720Z"
    }
   },
   "cell_type": "code",
   "source": [
    "import numpy as np\n",
    "# Fit models\n",
    "covariates = hfri_rep.drop(columns=['HFRIFWI Index'])\n",
    "model_no_int = LinearRegression(fit_intercept=False)\n",
    "model_no_int.fit(covariates, hfri_rep[['HFRIFWI Index']])\n",
    "model_with_int = LinearRegression()\n",
    "model_with_int.fit(covariates, hfri_rep[['HFRIFWI Index']])\n",
    "\n",
    "# Summarize model output, comparisons\n",
    "coef_comp = pd.DataFrame({\n",
    "    'Feature': covariates.columns,\n",
    "    'Coef (No Intercept)': model_no_int.coef_[0],\n",
    "    'Coef (With Intercept)': model_with_int.coef_[0]\n",
    "})\n",
    "display(coef_comp)\n",
    "r_squared_w = model_with_int.score(covariates, hfri_rep[['HFRIFWI Index']])\n",
    "r_squared_wo = model_no_int.score(covariates, hfri_rep[['HFRIFWI Index']])\n",
    "print(\"R-squared w/ Intercept:\", round(r_squared_w, 3), \" R-squared w/o Intercept:\", round(r_squared_wo, 3))\n",
    "\n",
    "# Compare means of fitted values\n",
    "# Calculate the fitted mean\n",
    "fitted_mean_w = (model_with_int.intercept_ + model_with_int.coef_ @ covariates.mean()) * 12\n",
    "fitted_mean_wo = (model_with_int.coef_ @ covariates.mean()) * 12\n",
    "hfri_mean = hfri.mean()  * 12\n",
    "\n",
    "print(f'HFRI Mean: {hfri_mean[0]:.2%}')\n",
    "print(f'Fitted Mean: {fitted_mean_w[0]:.2%}')\n",
    "print(f'Fitted Mean (no intercept): {fitted_mean_wo[0]:.2%}')\n",
    "\n",
    "# Compare correlations of fitted values\n",
    "pred_no_int = model_no_int.predict(covariates)\n",
    "pred_with_int = model_with_int.predict(covariates)\n",
    "corr_no_int = round(np.corrcoef(hfri_rep['HFRIFWI Index'], pred_no_int[:, 0])[0, 1], 3)\n",
    "corr_with_int = round(np.corrcoef(hfri_rep['HFRIFWI Index'], pred_with_int[:, 0])[0, 1], 3)\n",
    "print(f'Correlation without intercept: {corr_no_int}')\n",
    "print(f'Correlation with intercept: {corr_with_int}')"
   ],
   "id": "f4879b87abbd41f4",
   "outputs": [
    {
     "data": {
      "text/plain": [
       "         Feature  Coef (No Intercept)  Coef (With Intercept)\n",
       "0  SPY US Equity             0.050667               0.036483\n",
       "1   USGG3M Index             0.499336               0.146336\n",
       "2  EEM US Equity             0.080866               0.081611\n",
       "3  EFA US Equity             0.079146               0.084638\n",
       "4  EUO US Equity             0.031373               0.028806\n",
       "5  IWM US Equity             0.142651               0.145111"
      ],
      "text/html": [
       "<div>\n",
       "<style scoped>\n",
       "    .dataframe tbody tr th:only-of-type {\n",
       "        vertical-align: middle;\n",
       "    }\n",
       "\n",
       "    .dataframe tbody tr th {\n",
       "        vertical-align: top;\n",
       "    }\n",
       "\n",
       "    .dataframe thead th {\n",
       "        text-align: right;\n",
       "    }\n",
       "</style>\n",
       "<table border=\"1\" class=\"dataframe\">\n",
       "  <thead>\n",
       "    <tr style=\"text-align: right;\">\n",
       "      <th></th>\n",
       "      <th>Feature</th>\n",
       "      <th>Coef (No Intercept)</th>\n",
       "      <th>Coef (With Intercept)</th>\n",
       "    </tr>\n",
       "  </thead>\n",
       "  <tbody>\n",
       "    <tr>\n",
       "      <th>0</th>\n",
       "      <td>SPY US Equity</td>\n",
       "      <td>0.050667</td>\n",
       "      <td>0.036483</td>\n",
       "    </tr>\n",
       "    <tr>\n",
       "      <th>1</th>\n",
       "      <td>USGG3M Index</td>\n",
       "      <td>0.499336</td>\n",
       "      <td>0.146336</td>\n",
       "    </tr>\n",
       "    <tr>\n",
       "      <th>2</th>\n",
       "      <td>EEM US Equity</td>\n",
       "      <td>0.080866</td>\n",
       "      <td>0.081611</td>\n",
       "    </tr>\n",
       "    <tr>\n",
       "      <th>3</th>\n",
       "      <td>EFA US Equity</td>\n",
       "      <td>0.079146</td>\n",
       "      <td>0.084638</td>\n",
       "    </tr>\n",
       "    <tr>\n",
       "      <th>4</th>\n",
       "      <td>EUO US Equity</td>\n",
       "      <td>0.031373</td>\n",
       "      <td>0.028806</td>\n",
       "    </tr>\n",
       "    <tr>\n",
       "      <th>5</th>\n",
       "      <td>IWM US Equity</td>\n",
       "      <td>0.142651</td>\n",
       "      <td>0.145111</td>\n",
       "    </tr>\n",
       "  </tbody>\n",
       "</table>\n",
       "</div>"
      ]
     },
     "metadata": {},
     "output_type": "display_data"
    },
    {
     "name": "stdout",
     "output_type": "stream",
     "text": [
      "R-squared w/ Intercept: 0.84  R-squared w/o Intercept: 0.837\n",
      "HFRI Mean: 4.83%\n",
      "Fitted Mean: 4.83%\n",
      "Fitted Mean (no intercept): 3.35%\n",
      "Correlation without intercept: 0.916\n",
      "Correlation with intercept: 0.916\n"
     ]
    },
    {
     "name": "stderr",
     "output_type": "stream",
     "text": [
      "C:\\Users\\bwick\\AppData\\Local\\Temp\\ipykernel_22084\\3664761215.py:26: FutureWarning: Series.__getitem__ treating keys as positions is deprecated. In a future version, integer keys will always be treated as labels (consistent with DataFrame behavior). To access a value by position, use `ser.iloc[pos]`\n",
      "  print(f'HFRI Mean: {hfri_mean[0]:.2%}')\n"
     ]
    }
   ],
   "execution_count": 301
  },
  {
   "cell_type": "markdown",
   "id": "f7433d2f",
   "metadata": {},
   "source": [
    "***"
   ]
  },
  {
   "cell_type": "markdown",
   "id": "4f5883f2",
   "metadata": {},
   "source": [
    "# 3.  Extensions\n",
    "<i>This section is not graded, and you do not need to submit it. Still, we may discuss it in class, in which case, you would be expected to know it."
   ]
  },
  {
   "cell_type": "markdown",
   "id": "2c042de1",
   "metadata": {},
   "source": [
    "## 1. \n",
    "\n",
    "Merrill constrains the weights of each asset in its replication regression of HFRI. Try constraining your weights by re-doing 2.6.\n",
    "\n",
    "* Use Non-Negative Least Squares (NNLS) instead of OLS.\n",
    "* Go further by using a Generalized Linear Model to put separate interval constraints on each beta, rather than simply constraining them to be non-negative.\n",
    "\n",
    "#### Hints\n",
    "* Try using LinearRegression in scikit-learn with the parameter `positive=True`. \n",
    "* Try using GLM in statsmodels."
   ]
  },
  {
   "cell_type": "markdown",
   "id": "02ee228d",
   "metadata": {},
   "source": [
    "## 2. \n",
    "\n",
    "Let's decompose a few other targets to see if they behave as their name suggests.\n",
    "\n",
    "* Regress HEFA on the same style factors used to decompose HFRI. Does HEFA appear to be a currency-hedged version of EFA?\n",
    "\n",
    "* Decompose TRVCI with the same style factors used to decompose HFRI. The TRVCI Index tracks venture capital funds--in terms of our styles, what best describes venture capital?\n",
    "\n",
    "* TAIL is an ETF that tracks SPY, but that also buys put options to protect against market downturns. Calculate the statistics in questions 2.1-2.3 for TAIL. Does it seem to behave as indicated by this description? That is, does it have high correlation to SPY while delivering lower tail risk?"
   ]
  },
  {
   "cell_type": "markdown",
   "id": "9c20b444",
   "metadata": {},
   "source": [
    "## 3. \n",
    "\n",
    "The ProShares case introduces Levered ETFs. ProShares made much of its name originally through levered, or \"geared\" ETFs.\n",
    "\n",
    "Explain conceptually why Levered ETFs may track their index well for a given day but diverge over time. How is this exacerbated in volatile periods like 2008?\n",
    "\n",
    "## 4.\n",
    "\n",
    "Analyze SPXU and UPRO relative to SPY.\n",
    "- SPXU is ProShares -3x SPX ETF.\n",
    "- UPRO is ProShres +3x SPX ETF.\n",
    "\n",
    "Questions:\n",
    "* Analyze them with the statistics from 2.1-2.3. \n",
    "\n",
    "* Do these two ETFs seem to live up to their names?\n",
    "\n",
    "* Plot the cumulative returns of both these ETFs along with SPY.\n",
    "\n",
    "* What do you conclude about levered ETFs?"
   ]
  },
  {
   "cell_type": "markdown",
   "id": "2acea83e",
   "metadata": {},
   "source": [
    "***"
   ]
  }
 ],
 "metadata": {
  "hide_input": false,
  "kernelspec": {
   "display_name": "Python 3 (ipykernel)",
   "language": "python",
   "name": "python3"
  },
  "language_info": {
   "codemirror_mode": {
    "name": "ipython",
    "version": 3
   },
   "file_extension": ".py",
   "mimetype": "text/x-python",
   "name": "python",
   "nbconvert_exporter": "python",
   "pygments_lexer": "ipython3",
   "version": "3.9.6"
  }
 },
 "nbformat": 4,
 "nbformat_minor": 5
}
